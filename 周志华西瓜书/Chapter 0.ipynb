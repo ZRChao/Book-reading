{
 "cells": [
  {
   "cell_type": "markdown",
   "metadata": {},
   "source": [
    " ## 西瓜书学习\n",
    " \n",
    "答案 https://blog.csdn.net/icefire_tyh/article/details/52064910\n",
    " \n",
    "资源 https://blog.csdn.net/qq_34731703/article/details/78790752\n",
    " \n",
    "笔记 https://www.cnblogs.com/limitlessun/p/8505647.html#_label0\n",
    " \n",
    "框架 https://mp.weixin.qq.com/s/fUNDdCzJrWBoKYh1tT4gSw\n",
    " \n",
    "证明 https://datawhalechina.github.io/pumpkin-book/#/"
   ]
  },
  {
   "cell_type": "markdown",
   "metadata": {},
   "source": [
    "## 打卡\n",
    " \n",
    "Week1. 5.9-5.16 22:00 https://shimo.im/docs/sdVA2B79eU8VD3J2 \n",
    " "
   ]
  }
  {
   "cell_type": "markdown",
   "metadata": {},
   "source": [
    "## 打卡\n",
    " \n",
    "Week1. 5.9-5.16 22:00 https://shimo.im/docs/sdVA2B79eU8VD3J2 \n",
    " "
   ]
  }
 ],
 "metadata": {
  "kernelspec": {
   "display_name": "Python 3",
   "language": "python",
   "name": "python3"
  },
  "language_info": {
   "codemirror_mode": {
    "name": "ipython",
    "version": 3
   },
   "file_extension": ".py",
   "mimetype": "text/x-python",
   "name": "python",
   "nbconvert_exporter": "python",
   "pygments_lexer": "ipython3",
   "version": "3.6.4"
  },
  "toc": {
   "base_numbering": 1,
   "nav_menu": {},
   "number_sections": true,
   "sideBar": true,
   "skip_h1_title": false,
   "title_cell": "Table of Contents",
   "title_sidebar": "Contents",
   "toc_cell": false,
   "toc_position": {},
   "toc_section_display": true,
   "toc_window_display": false
  }
 },
 "nbformat": 4,
 "nbformat_minor": 2
}
