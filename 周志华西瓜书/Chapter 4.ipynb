{
 "cells": [
  {
   "cell_type": "markdown",
   "metadata": {},
   "source": [
    "## 决策树 \n",
    "\n",
    "\n",
    "> <font color=#0099ff size=4 face=\"黑体\">决策树学习通常包括三个步骤：特征选择、决策树的生成和决策树的修剪</font>\n",
    "\n",
    "\n",
    "\n",
    "### 基本流程\n",
    "\n",
    "决策树包含一个根节点、若干个内部节点和叶子节点，叶节点对应决策结果，其他的对应一个属性，从根节点到每个叶节点的路径对应一个判定测试序列。其目的是学习一棵泛化能力强，遵循**分而治之，divide-and-conquer**。\n",
    "\n",
    "![](https://github.com/ZRChao/Book-reading/blob/master/周志华西瓜书/figures/4_2.png?raw=true)\n",
    "\n",
    "### 划分选择\n",
    "\n",
    "如何划分，分支节点所包含的样本尽可能属于同一类别，即*纯度，purity*更高。\n",
    "\n",
    "#### 信息增益\n",
    "\n",
    "**信息熵**：样本集合D中不同类别的比例$p_k,k=1,\\dots,|D|$, 则\n",
    "\n",
    "$$Ent(D)=-\\sum_{k=1}^{|D|} p_k\\log_2p_k$$\n",
    "\n",
    "越小纯度越高，最小值为0，[最大值为$\\log_2|D|$](https://blog.csdn.net/feixi7358/article/details/83861858)\n",
    "\n",
    "在某属性a上，不同其不同取值来对数据D进行划分，记为$D^v$,然后根据节点所包含样本数不同而赋予不同权重$|D^v|/|D|$,即样本数越多的分支节点的影响越大，则可以算出属性a对样本D进行划分所获的**信息增益**：\n",
    "\n",
    "$$Gain(D,a)=Ent(D)-\\sum_{v=1}^V\\frac{|D^v|}{|D|} Ent(D^v)$$\n",
    "\n",
    "**ID3**：选择信息增益最大来选择属性，*信息增益越大，则意味着属性a划分所得的纯度提升越大。*\n",
    "\n",
    "#### 增益率\n",
    "\n",
    "**CD4.5**：信息增益对可取值数目较多的属性有偏好，可以选择**信息增益率**进行属性选择：\n",
    "\n",
    "$$Gain_ratio(D,a)=\\frac{Gain(D,a)}{IV(a)}$$\n",
    "\n",
    "**属性a固有值**：intrinsic value\n",
    "\n",
    "$$IV(a)=-\\sum_{v=1}^V\\frac{|D^v|}{|D|}\\log_2 \\frac{|D^v|}{|D|}$$\n",
    "\n",
    "但是其偏好数值较少的属性，**启发式**，先从候选划分中找出信息增益率高于平均的属性，在从中选择增益率最高的。\n",
    "\n",
    "#### 基尼指数\n",
    "\n",
    "**CART**决策树,*采用Gini index最小的属性进行划分*，其直观反映随机抽取两个样本标记不一致的概率，越小越好纯度越高。基尼值：\n",
    "\n",
    "$$Gini(D)=\\sum_{k=1}^{|Y|}\\sum_{k‘\\neq k} p_k p_k’=1-\\sum_{k=1}^{|Y|}p_k^2$$\n",
    "\n",
    "基尼指数：\n",
    "\n",
    "$$Gini_index(D,a)=\\sum_{v=1}^V \\frac{|D^v|}{|D|} Gini(D^v)$$\n",
    "\n",
    "### 剪枝处理 pruning\n",
    "\n",
    "为防止过拟合，也即训练样本太好树的分支太多的情况，可以主动去掉一些分支。\n",
    "\n",
    "- 预剪枝，prepruning，每次对划分前后的泛化性能进行估计--测试集，降低过拟合的风险同时减少时间开销。但是可能会导致欠拟合。\n",
    "\n",
    "![](https://github.com/ZRChao/Book-reading/blob/master/周志华西瓜书/figures/4_6.png?raw=true)\n",
    "\n",
    "- 后剪枝，postpruning\n",
    "\n",
    "![](https://github.com/ZRChao/Book-reading/blob/master/周志华西瓜书/figures/4_7.png?raw=true)\n",
    "\n",
    "### 连续与缺失值\n",
    "\n",
    "- 连续值处理，**连续属性离散化**，如C4.5二分类，\n",
    "  - 连续值n个选择，从小到大排序，则有n-1个划分，选择划分使得信息增益最大。\n",
    "\n",
    "- 缺失值处理\n",
    "   - 缺失比例作为信息增益的权重，得到信息增益的推广\n",
    "\n",
    "### 多变量决策树 multivariate decision tree\n",
    "\n",
    "属性视为坐标空间，则属性描述的样本即其中的数据点，分类即寻找合适的边界，且该边界与坐标轴分段平行。\n",
    "\n",
    "![](https://github.com/ZRChao/Book-reading/blob/master/周志华西瓜书/figures/4_12.png?raw=true)\n",
    "\n",
    "**在多变量决策时，非节点处对属性的线性组合构造分类器**，如OC1，贪心寻找每个属性的最优权值。\n",
    "\n",
    "![](https://github.com/ZRChao/Book-reading/blob/master/周志华西瓜书/figures/4_14.png?raw=true)\n",
    "\n",
    "### 阅读材料\n"
   ]
  },
  {
   "cell_type": "code",
   "execution_count": 9,
   "metadata": {},
   "outputs": [],
   "source": [
    "from sklearn.model_selection import cross_val_score\n",
    "from sklearn.datasets import make_blobs\n",
    "from sklearn.ensemble import RandomForestClassifier\n",
    "from sklearn.ensemble import ExtraTreesClassifier\n",
    "from sklearn.tree import DecisionTreeClassifier"
   ]
  },
  {
   "cell_type": "code",
   "execution_count": 8,
   "metadata": {},
   "outputs": [],
   "source": [
    "X, y = make_blobs(n_samples=10000, n_features=10, centers=100,\n",
    "    random_state=0)"
   ]
  },
  {
   "cell_type": "code",
   "execution_count": 15,
   "metadata": {},
   "outputs": [
    {
     "data": {
      "text/plain": [
       "array([[  6.46907649,   4.25070317,  -8.63694437, ...,  -0.48172814,\n",
       "         -6.44996141,  -2.65984972],\n",
       "       [  6.48856404,   9.37957037,  10.32791736, ...,   3.37542134,\n",
       "          7.41273719,  -9.72284371],\n",
       "       [  8.37392753, -10.14342267,  -3.52753613, ...,  -7.31536045,\n",
       "         -2.33070872,   6.44087163],\n",
       "       ...,\n",
       "       [  7.86551596,   6.19525794,   4.773955  , ...,   4.93452091,\n",
       "         -4.52137856,   6.28178851],\n",
       "       [-10.41156442,   1.40054826,  -1.97349572, ...,  -3.18210433,\n",
       "          7.59487579,   4.62753678],\n",
       "       [  7.40908901,  -7.3908382 ,  10.78350645, ...,  -3.26219501,\n",
       "          5.73727272,  -4.97354916]])"
      ]
     },
     "execution_count": 15,
     "metadata": {},
     "output_type": "execute_result"
    }
   ],
   "source": [
    "X"
   ]
  },
  {
   "cell_type": "code",
   "execution_count": 16,
   "metadata": {},
   "outputs": [
    {
     "name": "stdout",
     "output_type": "stream",
     "text": [
      "(10000, 10)\n"
     ]
    }
   ],
   "source": [
    "print(X.shape)"
   ]
  },
  {
   "cell_type": "code",
   "execution_count": 20,
   "metadata": {},
   "outputs": [
    {
     "data": {
      "text/plain": [
       "array([85, 64, 93, ..., 98, 80, 91])"
      ]
     },
     "execution_count": 20,
     "metadata": {},
     "output_type": "execute_result"
    }
   ],
   "source": [
    "y"
   ]
  },
  {
   "cell_type": "code",
   "execution_count": null,
   "metadata": {},
   "outputs": [],
   "source": [
    "clf = DecisionTreeClassifier(max_depth=None, min_samples_split=2,\n",
    "    random_state=0)\n",
    "scores = cross_val_score(clf, X, y, cv=5)\n",
    "scores.mean()                               "
   ]
  },
  {
   "cell_type": "code",
   "execution_count": 4,
   "metadata": {},
   "outputs": [
    {
     "data": {
      "text/plain": [
       "0.9997"
      ]
     },
     "execution_count": 4,
     "metadata": {},
     "output_type": "execute_result"
    }
   ],
   "source": [
    "clf = RandomForestClassifier(n_estimators=10, max_depth=None,\n",
    "    min_samples_split=2, random_state=0)\n",
    "scores = cross_val_score(clf, X, y, cv=5)\n",
    "scores.mean()                               "
   ]
  },
  {
   "cell_type": "code",
   "execution_count": 5,
   "metadata": {},
   "outputs": [
    {
     "data": {
      "text/plain": [
       "1.0"
      ]
     },
     "execution_count": 5,
     "metadata": {},
     "output_type": "execute_result"
    }
   ],
   "source": [
    "clf = ExtraTreesClassifier(n_estimators=10, max_depth=None,\n",
    "    min_samples_split=2, random_state=0)\n",
    "scores = cross_val_score(clf, X, y, cv=5) \n",
    "scores.mean()"
   ]
  },
  {
   "cell_type": "code",
   "execution_count": 21,
   "metadata": {},
   "outputs": [
    {
     "data": {
      "text/plain": [
       "5.009154859960319"
      ]
     },
     "execution_count": 21,
     "metadata": {},
     "output_type": "execute_result"
    }
   ],
   "source": [
    "import numpy as np\n",
    "from sklearn.metrics import mean_squared_error\n",
    "from sklearn.datasets import make_friedman1\n",
    "from sklearn.ensemble import GradientBoostingRegressor\n",
    "\n",
    "X, y = make_friedman1(n_samples=1200, random_state=0, noise=1.0)\n",
    "X_train, X_test = X[:200], X[200:]\n",
    "y_train, y_test = y[:200], y[200:]\n",
    "est = GradientBoostingRegressor(n_estimators=100, learning_rate=0.1,\n",
    "    max_depth=1, random_state=0, loss='ls').fit(X_train, y_train)\n",
    "mean_squared_error(y_test, est.predict(X_test))  "
   ]
  },
  {
   "cell_type": "code",
   "execution_count": 24,
   "metadata": {},
   "outputs": [
    {
     "name": "stdout",
     "output_type": "stream",
     "text": [
      "MSE: 6.4412\n"
     ]
    },
    {
     "data": {
      "image/png": "[encoded data removed]",
      "text/plain": [
       "<matplotlib.figure.Figure at 0x108c225c0>"
      ]
     },
     "metadata": {},
     "output_type": "display_data"
    }
   ],
   "source": [
    "import numpy as np\n",
    "import matplotlib.pyplot as plt\n",
    "\n",
    "from sklearn import ensemble\n",
    "from sklearn import datasets\n",
    "from sklearn.utils import shuffle\n",
    "from sklearn.metrics import mean_squared_error\n",
    "\n",
    "# #############################################################################\n",
    "# Load data\n",
    "boston = datasets.load_boston()\n",
    "X, y = shuffle(boston.data, boston.target, random_state=13)\n",
    "X = X.astype(np.float32)\n",
    "offset = int(X.shape[0] * 0.9)\n",
    "X_train, y_train = X[:offset], y[:offset]\n",
    "X_test, y_test = X[offset:], y[offset:]\n",
    "\n",
    "# #############################################################################\n",
    "# Fit regression model\n",
    "params = {'n_estimators': 500, 'max_depth': 4, 'min_samples_split': 2,\n",
    "          'learning_rate': 0.01, 'loss': 'ls'}\n",
    "clf = ensemble.GradientBoostingRegressor(**params)\n",
    "\n",
    "clf.fit(X_train, y_train)\n",
    "mse = mean_squared_error(y_test, clf.predict(X_test))\n",
    "print(\"MSE: %.4f\" % mse)\n",
    "# #############################################################################\n",
    "# Plot training deviance\n",
    "\n",
    "# compute test set deviance\n",
    "test_score = np.zeros((params['n_estimators'],), dtype=np.float64)\n",
    "\n",
    "for i, y_pred in enumerate(clf.staged_predict(X_test)):\n",
    "    test_score[i] = clf.loss_(y_test, y_pred)\n",
    "\n",
    "plt.figure(figsize=(12, 6))\n",
    "plt.subplot(1, 2, 1)\n",
    "plt.title('Deviance')\n",
    "plt.plot(np.arange(params['n_estimators']) + 1, clf.train_score_, 'b-',\n",
    "         label='Training Set Deviance')\n",
    "plt.plot(np.arange(params['n_estimators']) + 1, test_score, 'r-',\n",
    "         label='Test Set Deviance')\n",
    "plt.legend(loc='upper right')\n",
    "plt.xlabel('Boosting Iterations')\n",
    "plt.ylabel('Deviance')\n",
    "\n",
    "# #############################################################################\n",
    "# Plot feature importance\n",
    "feature_importance = clf.feature_importances_\n",
    "# make importances relative to max importance\n",
    "feature_importance = 100.0 * (feature_importance / feature_importance.max())\n",
    "sorted_idx = np.argsort(feature_importance)\n",
    "pos = np.arange(sorted_idx.shape[0]) + .5\n",
    "plt.subplot(1, 2, 2)\n",
    "plt.barh(pos, feature_importance[sorted_idx], align='center')\n",
    "plt.yticks(pos, boston.feature_names[sorted_idx])\n",
    "plt.xlabel('Relative Importance')\n",
    "plt.title('Variable Importance')\n",
    "plt.show()"
   ]
  }
 ],
 "metadata": {
  "kernelspec": {
   "display_name": "Python 3",
   "language": "python",
   "name": "python3"
  },
  "language_info": {
   "codemirror_mode": {
    "name": "ipython",
    "version": 3
   },
   "file_extension": ".py",
   "mimetype": "text/x-python",
   "name": "python",
   "nbconvert_exporter": "python",
   "pygments_lexer": "ipython3",
   "version": "3.6.4"
  },
  "toc": {
   "base_numbering": "4",
   "nav_menu": {},
   "number_sections": true,
   "sideBar": true,
   "skip_h1_title": false,
   "title_cell": "Table of Contents",
   "title_sidebar": "Contents",
   "toc_cell": false,
   "toc_position": {},
   "toc_section_display": true,
   "toc_window_display": true
  }
 },
 "nbformat": 4,
 "nbformat_minor": 2
}
