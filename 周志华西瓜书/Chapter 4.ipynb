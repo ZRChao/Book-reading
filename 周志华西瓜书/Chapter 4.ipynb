{
 "cells": [
  {
   "cell_type": "markdown",
   "metadata": {},
   "source": [
    "## 决策树 \n",
    "\n",
    "https://blog.csdn.net/black_shuang/article/details/80666520\n",
    "\n",
    "\n",
    "### 基本流程\n",
    "\n",
    "决策树包含一个根节点、若干个内部节点和叶子节点，叶节点对应决策结果，其他的对应一个属性，从根节点到每个叶节点的路径对应一个判定测试序列。其目的是学习一棵泛化能力强，遵循**分而治之，divide-and-conquer**。\n",
    "\n",
    "![](/Users/zhouchao/Documents/Books/西瓜书/Figures/4_2.png)\n",
    "\n",
    "### 划分选择\n",
    "\n",
    "如何划分，分支节点所包含的样本尽可能属于同一类别，即*纯度，purity*更高。\n",
    "\n",
    "#### 信息增益\n",
    "\n",
    "**信息熵**：样本集合D中不同类别的比例$p_k,k=1,\\dots,|D|$, 则\n",
    "\n",
    "$$Ent(D)=-\\sum_{k=1}^{|D|} p_k\\log_2p_k$$\n",
    "\n",
    "越小纯度越高，最小值为0，[最大值为$\\log_2|D|$](https://blog.csdn.net/feixi7358/article/details/83861858)\n",
    "\n",
    "在某属性a上，不同其不同取值来对数据D进行划分，记为$D^v$,然后根据节点所包含样本数不同而赋予不同权重$|D^v|/|D|$,即样本数越多的分支节点的影响越大，则可以算出属性a对样本D进行划分所获的**信息增益**：\n",
    "\n",
    "$$Gain(D,a)=Ent(D)-\\sum_{v=1}^V\\frac{|D^v|}{|D|} Ent(D^v)$$\n",
    "\n",
    "**ID3**：选择信息增益最大来选择属性，*信息增益越大，则意味着属性a划分所得的纯度提升越大。*\n",
    "\n",
    "#### 增益率\n",
    "\n",
    "**CD4.5**：信息增益对可取值数目较多的属性有偏好，可以选择**信息增益率**进行属性选择：\n",
    "\n",
    "$$Gain_ratio(D,a)=\\frac{Gain(D,a)}{IV(a)}$$\n",
    "\n",
    "**属性a固有值**：intrinsic value\n",
    "\n",
    "$$IV(a)=-\\sum_{v=1}^V\\frac{|D^v|}{|D|}\\log_2 \\frac{|D^v|}{|D|}$$\n",
    "\n",
    "但是其偏好数值较少的属性，**启发式**，先从候选划分中找出信息增益率高于平均的属性，在从中选择增益率最高的。\n",
    "\n",
    "#### 基尼指数\n",
    "\n",
    "**CART**决策树\n",
    "\n"
   ]
  }
 ],
 "metadata": {
  "kernelspec": {
   "display_name": "Python 3",
   "language": "python",
   "name": "python3"
  },
  "language_info": {
   "codemirror_mode": {
    "name": "ipython",
    "version": 3
   },
   "file_extension": ".py",
   "mimetype": "text/x-python",
   "name": "python",
   "nbconvert_exporter": "python",
   "pygments_lexer": "ipython3",
   "version": "3.6.4"
  },
  "toc": {
   "base_numbering": 1,
   "nav_menu": {},
   "number_sections": true,
   "sideBar": true,
   "skip_h1_title": false,
   "title_cell": "Table of Contents",
   "title_sidebar": "Contents",
   "toc_cell": false,
   "toc_position": {},
   "toc_section_display": true,
   "toc_window_display": false
  }
 },
 "nbformat": 4,
 "nbformat_minor": 2
}
