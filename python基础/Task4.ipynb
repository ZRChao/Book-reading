{
 "cells": [
  {
   "cell_type": "markdown",
   "metadata": {},
   "source": [
    "## Task4 \n",
    "\n",
    "**内容：**\n",
    "\n",
    "- 函数关键字\n",
    "- 函数的定义\n",
    "- 函数参数与作用域\n",
    "- 函数返回值\n",
    "- file\n",
    "    - 打开文件方式（读写两种方式）\n",
    "    - 文件对象的操作方法\n",
    "    - 学习对excel及csv文件进行操作\n",
    "- os模块\n",
    "- datetime模块\n",
    "\n",
    "打卡时间：5.17 22点前 打卡地址：https://docs.qq.com/doc/DRHdLUmd4eU9yaGVF"
   ]
  },
  {
   "cell_type": "markdown",
   "metadata": {},
   "source": [
    "## 函数\n",
    "\n",
    "编程大师Martin Fowler先生曾经说过：*“代码有很多种坏味道，重复是最坏的一种！”*，要写出高质量的代码首先要解决的就是重复代码的问题。\n",
    "函数便是封装了一些独立的功能，可以直接调用的模块。\n",
    "\n",
    "在Python中可以使用```def```关键字来定义函数，和变量一样每个函数也有一个响亮的名字，而且命名规则跟变量的命名规则是一致的。在函数名后面的圆括号中可以放置传递给函数的参数，这一点和数学上的函数非常相似，程序中函数的参数就相当于是数学上说的函数的自变量，而函数执行完成后我们可以通过```return```关键字来返回一个值，这相当于数学上说的函数的因变量。\n",
    "\n",
    "函数是绝大多数编程语言中都支持的一个代码的“构建块”，但是Python中的函数与其他语言中的函数还是有很多不太相同的地方，其中一个显著的区别就是Python对函数参数的处理。在Python中，函数的参数可以有默认值，也支持使用可变参数，所以Python并不需要像其他语言一样支持函数的重载，因为我们在定义一个函数的时候可以让它有多种不同的使用方式\n",
    "\n",
    "\n",
    "**由于Python没有函数重载的概念，那么后面的定义会覆盖之前的定义,我们在不同的模块中可以有同名的函数，在使用函数的时候我们通过import关键字导入指定的模块就可以区分到底要使用的是哪个模块中的**"
   ]
  },
  {
   "cell_type": "code",
   "execution_count": 1,
   "metadata": {},
   "outputs": [
    {
     "name": "stdout",
     "output_type": "stream",
     "text": [
      "0\n",
      "1\n",
      "3\n",
      "6\n",
      "25\n"
     ]
    }
   ],
   "source": [
    "# 在参数名前面的*表示args是一个可变参数\n",
    "# 即在调用add函数时可以传入0个或多个参数\n",
    "def add(*args):\n",
    "    total = 0\n",
    "    for val in args:\n",
    "        total += val\n",
    "    return total\n",
    "\n",
    "\n",
    "print(add())\n",
    "print(add(1))\n",
    "print(add(1, 2))\n",
    "print(add(1, 2, 3))\n",
    "print(add(1, 3, 5, 7, 9))"
   ]
  },
  {
   "cell_type": "code",
   "execution_count": 2,
   "metadata": {},
   "outputs": [
    {
     "data": {
      "text/plain": [
       "False"
      ]
     },
     "execution_count": 2,
     "metadata": {},
     "output_type": "execute_result"
    }
   ],
   "source": [
    "# 实现判断一个数是不是素数的函数。\n",
    "def is_prime(num):\n",
    "    for factor in range(2, num):\n",
    "        if num % factor == 0:\n",
    "            return False\n",
    "    return True if num != 1 else False\n",
    "is_prime(100)"
   ]
  },
  {
   "cell_type": "markdown",
   "metadata": {},
   "source": [
    "## file\n",
    "\n",
    "读写文件是最常见的IO操作。Python内置了读写文件的函数，用法和C是兼容的。\n",
    "\n",
    "读写文件前，我们先必须了解一下，在磁盘上读写文件的功能都是由操作系统提供的，现代操作系统不允许普通的程序直接操作磁盘，所以，读写文件就是请求操作系统打开一个文件对象（通常称为文件描述符），然后，通过操作系统提供的接口从这个文件对象中读取数据（读文件），或者把数据写入这个文件对象（写文件）。\n",
    "\n",
    "\n",
    " - 读文件 ```f = open('dir', 'r')``` 其中'r' 表示打开文件，如果文件不存在报错。之后用 ```f.read()``` 可以一次读取全部内容到内存，用```str```对象表示。文件打开占用内存，及时关闭```f.close()```。避免报错，使用```try ... finally```实现，或者```with open('dir', 'r') as f: print(f.read())```。 ```readline()```每次读取一行内容，调用```readlines()```一次读取所有内容并按行返回list. 用```rb```模式打开二进制文件， ```encoding='gbk'```传入编码格式。\n",
    " "
   ]
  },
  {
   "cell_type": "code",
   "execution_count": null,
   "metadata": {},
   "outputs": [],
   "source": [
    "f = open('dir', 'r') # 报错，不在执行下面的\n",
    "f.read()\n",
    "f.colse()"
   ]
  },
  {
   "cell_type": "code",
   "execution_count": null,
   "metadata": {},
   "outputs": [],
   "source": [
    "try:\n",
    "    f = open('dir', 'r')\n",
    "    print(f.read())\n",
    "finally:\n",
    "    if f:\n",
    "        f.close()"
   ]
  },
  {
   "cell_type": "code",
   "execution_count": null,
   "metadata": {},
   "outputs": [],
   "source": [
    "# 等价的\n",
    "with  open('dir', 'r') as f: \n",
    "    print(f.read())"
   ]
  },
  {
   "cell_type": "markdown",
   "metadata": {},
   "source": [
    " - 写文件 ```f = open('dir', 'w')``` 其中'w' 表示打开文件，'wb'二进制文件。当我们写文件时，操作系统往往不会立刻把数据写入磁盘，而是放到内存缓存起来，空闲的时候再慢慢写入。只有调用close()方法时，操作系统才保证把没有写入的数据全部写入磁盘。忘记调用close()的后果是数据可能只写了一部分到磁盘，剩下的丢失了。所以，还是用with语句来得保险。```a```表示追加输入。"
   ]
  },
  {
   "cell_type": "code",
   "execution_count": null,
   "metadata": {},
   "outputs": [],
   "source": [
    "# 读写csv文件 https://docs.python.org/3/library/csv.html\n",
    "import csv\n",
    "csv_file = csv.reader(open('testdata.csv','r'))\n",
    "next(csv_file, None)    #skip the headers\n",
    "for user in csv_file:\n",
    "    print(user)\n",
    "    \n",
    "# 读写excel文件 import xlrd, xlwt #xlwt只能写入xls文件"
   ]
  },
  {
   "cell_type": "markdown",
   "metadata": {},
   "source": [
    "## os模块\n",
    "\n",
    "对操作系统进行操作，使用该模块必须先导入模块,[1](http://www.cnblogs.com/sunyang945/p/7900957.html)"
   ]
  },
  {
   "cell_type": "code",
   "execution_count": 8,
   "metadata": {},
   "outputs": [
    {
     "name": "stdout",
     "output_type": "stream",
     "text": [
      "/Users/zhouchao/Documents/Books/Python/task\n",
      "/Users/zhouchao/Documents\n",
      "['Machine Learning', 'Tree', 'Interest_papers', 'figs.pdf', '.DS_Store', '.localized', 'Latex', 'R', 'plasma_proteome', 'Books', 'pQTL', 'openacc_labs', 'Yu Writer Libraries', 'CHD', 'Single_cell', 'GitHub', 'impute2', 'MATLAB', 'Dirichlet_M', 'Group_Can', 'Zoom', 'heat-transport-mechanisms', 'Somalogic-selected', 'GTEx']\n",
      "['/Users/zhouchao/anaconda3/bin', '/Users/zhouchao/anaconda3/bin', '/usr/local/bin', '/usr/bin', '/bin', '/usr/sbin', '/sbin', '/Users/david_dai/Downloads/plink_mac_dev/', '/Library/TeX/texbin', '/opt/X11/bin', '/Library/Frameworks/Mono.framework/Versions/Current/Commands', '/usr/local/git/bin']\n",
      ".\n",
      "..\n",
      "posix\n",
      "/\n",
      ".\n",
      "'\\n'\n"
     ]
    }
   ],
   "source": [
    "import os\n",
    "#getcwd() 获取当前工作目录(当前工作目录默认都是当前文件所在的文件夹)\n",
    "result = os.getcwd()\n",
    "print(result)\n",
    "\n",
    "#chdir()改变当前工作目录\n",
    "os.chdir('/Users/zhouchao/Documents')\n",
    "result = os.getcwd()\n",
    "print(result)\n",
    "\n",
    "# open('02.txt','w')\n",
    "#操作时如果书写完整的路径则不需要考虑默认工作目录的问题,按照实际书写路径操作\n",
    "# open('/home/sy/下载/02.txt','w')\n",
    "\n",
    "#listdir() 获取指定文件夹中所有内容的名称列表\n",
    "result = os.listdir('/Users/zhouchao/Documents')\n",
    "print(result)\n",
    "\n",
    "#mkdir()  创建文件夹\n",
    "#os.mkdir('girls')\n",
    "#os.mkdir('boys',0o777)\n",
    "\n",
    "#makedirs()  递归创建文件夹\n",
    "#os.makedirs('/home/sy/a/b/c/d')\n",
    "\n",
    "#rmdir() 删除空目录\n",
    "#os.rmdir('girls')\n",
    "\n",
    "#removedirs 递归删除文件夹  必须都是空目录\n",
    "#os.removedirs('/home/sy/a/b/c/d')\n",
    "\n",
    "#rename() 文件或文件夹重命名\n",
    "#os.rename('/home/sy/a','/home/sy/alibaba'\n",
    "#os.rename('02.txt','002.txt')\n",
    "\n",
    "#stat() 获取文件或者文件夹的信息\n",
    "#result = os.stat('/home/sy/PycharmProject/Python3/10.27/01.py)\n",
    "#print(result)\n",
    "\n",
    "#system() 执行系统命令(危险函数)\n",
    "#result = os.system('ls -al')  #获取隐藏文件\n",
    "#print(result)\n",
    "\n",
    "#环境变量\n",
    "#'''环境变量就是一些命令的集合，操作系统的环境变量就是操作系统在执行系统命令时搜索命令的目录的集合\n",
    "#getenv() 获取系统的环境变量\n",
    "result = os.getenv('PATH')\n",
    "print(result.split(':'))\n",
    "\n",
    "#putenv() 将一个目录添加到环境变量中(临时增加仅对当前脚本有效)\n",
    "#os.putenv('PATH','/home/sy/下载')\n",
    "#os.system('syls')\n",
    "\n",
    "#exit() 退出终端的命令\n",
    "\n",
    "#os模块中的常用值\n",
    "#curdir  表示当前文件夹   .表示当前文件夹  一般情况下可以省略\n",
    "print(os.curdir)\n",
    "\n",
    "#pardir  表示上一层文件夹   ..表示上一层文件夹  不可省略!\n",
    "print(os.pardir)\n",
    "\n",
    "#os.mkdir('../../../man')#相对路径  从当前目录开始查找\n",
    "#os.mkdir('/home/sy/man1')#绝对路径  从根目录开始查找\n",
    "\n",
    "#name 获取代表操作系统的名称字符串\n",
    "print(os.name) #posix -> linux或者unix系统  nt -> window系统\n",
    "\n",
    "#sep 获取系统路径间隔符号  window ->\\    linux ->/\n",
    "print(os.sep)\n",
    "\n",
    "#extsep 获取文件名称和后缀之间的间隔符号  window & linux -> .\n",
    "print(os.extsep)\n",
    "\n",
    "#linesep  获取操作系统的换行符号  window -> \\r\\n  linux/unix -> \\n\n",
    "print(repr(os.linesep))"
   ]
  },
  {
   "cell_type": "markdown",
   "metadata": {},
   "source": [
    "## [datetime模块](https://www.liaoxuefeng.com/wiki/1016959663602400/1017648783851616)\n",
    "\n",
    "datetime是Python处理日期和时间的标准库。strftime 用于对 datetime 对象进行格式化，strptime 用于对字符串对象进行格式化。\n"
   ]
  },
  {
   "cell_type": "code",
   "execution_count": 14,
   "metadata": {},
   "outputs": [
    {
     "name": "stdout",
     "output_type": "stream",
     "text": [
      "2019-05-17 21:42:08.601149\n",
      "<class 'datetime.datetime'>\n",
      "2019-05-17 21:42:08.601287\n",
      "2015-04-19 12:20:00\n",
      "2015-06-01 18:19:59\n",
      "Fri, May 17 21:42\n"
     ]
    }
   ],
   "source": [
    "from datetime import datetime\n",
    "now = datetime.now() # 获取当前datetime\n",
    "print(now)\n",
    "print(type(now))\n",
    "print(datetime.now())\n",
    "\n",
    "dt = datetime(2015, 4, 19, 12, 20) # 用指定日期时间创建datetime\n",
    "print(dt)\n",
    "\n",
    "cday = datetime.strptime('2015-6-1 18:19:59', '%Y-%m-%d %H:%M:%S')\n",
    "print(cday)\n",
    "      \n",
    "print(datetime.now().strftime('%a, %b %d %H:%M'))"
   ]
  }
 ],
 "metadata": {
  "kernelspec": {
   "display_name": "Python 3",
   "language": "python",
   "name": "python3"
  },
  "language_info": {
   "codemirror_mode": {
    "name": "ipython",
    "version": 3
   },
   "file_extension": ".py",
   "mimetype": "text/x-python",
   "name": "python",
   "nbconvert_exporter": "python",
   "pygments_lexer": "ipython3",
   "version": "3.6.4"
  },
  "toc": {
   "base_numbering": 1,
   "nav_menu": {},
   "number_sections": true,
   "sideBar": true,
   "skip_h1_title": false,
   "title_cell": "Table of Contents",
   "title_sidebar": "Contents",
   "toc_cell": false,
   "toc_position": {},
   "toc_section_display": true,
   "toc_window_display": false
  }
 },
 "nbformat": 4,
 "nbformat_minor": 2
}
