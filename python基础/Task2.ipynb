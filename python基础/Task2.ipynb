{
 "cells": [
  {
   "cell_type": "markdown",
   "metadata": {},
   "source": [
    "## Task 2 2019-5-12\n",
    "\n",
    "学习内容：\n",
    "\n",
    "1. 列表\n",
    " - 1)标志\n",
    " - 2)基本操作(创建，append(),pop(),del(),拷贝)\n",
    " - 3)列表相关方法\n",
    "2. 元组\n",
    " - 1)标志\n",
    " - 2)基本操作(创建及不可变性)\n",
    "3. string字符串\n",
    " - 1)定义及基本操作(+，*，读取方式)\n",
    " - 2)字符串相关方法\n",
    " - 4.字符串格式化问题\n",
    "\n",
    "5月13日22点前 打卡地址：https://docs.qq.com/doc/DRHFIRkJNTm9UTnhk?localnum=1&wxsdk=2.7.0"
   ]
  },
  {
   "cell_type": "markdown",
   "metadata": {},
   "source": [
    "## 列表\n",
    "\n",
    "python中列表以方括号和逗号组成\n",
    "\n",
    "https://www.ibm.com/developerworks/cn/opensource/os-cn-python-yield/"
   ]
  },
  {
   "cell_type": "code",
   "execution_count": 50,
   "metadata": {},
   "outputs": [
    {
     "name": "stdout",
     "output_type": "stream",
     "text": [
      "[1, 3, 5, 7, 100]\n",
      "['hello', 'hello', 'hello', 'hello', 'hello']\n",
      "5\n",
      "1\n",
      "100\n",
      "100\n",
      "5\n",
      "[1, 3, 300, 7, 100]\n",
      "[1, 400, 3, 300, 7, 100, 200, 1000, 2000]\n",
      "9\n",
      "[400, 300, 7, 100, 200, 1000, 2000]\n",
      "[]\n"
     ]
    }
   ],
   "source": [
    "def main():\n",
    "    list1 = [1, 3, 5, 7, 100] # 标志\n",
    "    print(list1)\n",
    "    list2 = ['hello'] * 5 # 复制5次\n",
    "    print(list2)\n",
    "    print(len(list1)) # 计算列表长度(元素个数)\n",
    "    print(list1[0]) # 下标(索引)运算 从0开始\n",
    "    print(list1[4])\n",
    "    # print(list1[5])  # IndexError: list index out of range\n",
    "    print(list1[-1])\n",
    "    print(list1[-3])\n",
    "    list1[2] = 300 # 修改\n",
    "    print(list1)\n",
    "    list1.append(200)  # 添加元素\n",
    "    list1.insert(1, 400)\n",
    "    list1 += [1000, 2000]\n",
    "    print(list1)\n",
    "    print(len(list1))\n",
    "    list1.remove(3) # 删除元素\n",
    "    if 1234 in list1:\n",
    "        list1.remove(1234)\n",
    "    del list1[0] # 按照index删除\n",
    "    print(list1)\n",
    "    # 清空列表元素\n",
    "    list1.clear()\n",
    "    print(list1)\n",
    "\n",
    "\n",
    "if __name__ == '__main__':\n",
    "    main()"
   ]
  },
  {
   "cell_type": "code",
   "execution_count": 90,
   "metadata": {},
   "outputs": [
    {
     "name": "stdout",
     "output_type": "stream",
     "text": [
      "List :  [123, 'zara', 'abc', 'xyz']\n",
      "List :  [123, 'zara', 'xyz']\n",
      "List :  [123, 'zara']\n"
     ]
    }
   ],
   "source": [
    "aList = [123, 'xyz', 'zara', 'abc', 'xyz'];\n",
    "aList.remove('xyz')\n",
    "print(\"List : \", aList)\n",
    "aList.remove('abc')\n",
    "print(\"List : \", aList)\n",
    "del aList[2]\n",
    "print(\"List : \", aList)"
   ]
  },
  {
   "cell_type": "markdown",
   "metadata": {},
   "source": [
    "- ```range(101)```  可以产生一个0到100的整数序列。\n",
    "- ```range(1, 100)```  可以产生一个1到99的整数序列。\n",
    "- ```range(1, 100, 2)```  可以产生一个1到99的奇数序列，其中的2是步长，即数值序列的增量。"
   ]
  },
  {
   "cell_type": "code",
   "execution_count": 72,
   "metadata": {},
   "outputs": [
    {
     "name": "stdout",
     "output_type": "stream",
     "text": [
      "[1, 2, 3, 4, 5, 6, 7, 8, 9]\n",
      "['A1', 'A2', 'A3', 'A4', 'A5', 'A6', 'B1', 'B2', 'B3', 'B4', 'B5', 'B6', 'C1', 'C2', 'C3', 'C4', 'C5', 'C6', 'D1', 'D2', 'D3', 'D4', 'D5', 'D6', 'E1', 'E2', 'E3', 'E4', 'E5', 'E6']\n"
     ]
    }
   ],
   "source": [
    "f = [x for x in range(1, 10)]\n",
    "print(f)\n",
    "f = [x + y for x in 'ABCDE' for y in '123456']\n",
    "print(f)"
   ]
  },
  {
   "cell_type": "code",
   "execution_count": 73,
   "metadata": {},
   "outputs": [
    {
     "name": "stdout",
     "output_type": "stream",
     "text": [
      "1*1=1\t\n",
      "2*1=2\t2*2=4\t\n",
      "3*1=3\t3*2=6\t3*3=9\t\n",
      "4*1=4\t4*2=8\t4*3=12\t4*4=16\t\n",
      "5*1=5\t5*2=10\t5*3=15\t5*4=20\t5*5=25\t\n",
      "6*1=6\t6*2=12\t6*3=18\t6*4=24\t6*5=30\t6*6=36\t\n",
      "7*1=7\t7*2=14\t7*3=21\t7*4=28\t7*5=35\t7*6=42\t7*7=49\t\n",
      "8*1=8\t8*2=16\t8*3=24\t8*4=32\t8*5=40\t8*6=48\t8*7=56\t8*8=64\t\n",
      "9*1=9\t9*2=18\t9*3=27\t9*4=36\t9*5=45\t9*6=54\t9*7=63\t9*8=72\t9*9=81\t\n"
     ]
    }
   ],
   "source": [
    "for i in range(1, 10): # 99乘法表 range的用法 \n",
    "    for j in range(1, i + 1):\n",
    "        print('%d*%d=%d' % (i, j, i * j), end='\\t')\n",
    "    print()"
   ]
  },
  {
   "cell_type": "code",
   "execution_count": 100,
   "metadata": {},
   "outputs": [
    {
     "name": "stdout",
     "output_type": "stream",
     "text": [
      "Grape Apple Strawberry Waxberry Pitaya Pear Mango \n",
      "['apple', 'strawberry', 'waxberry']\n",
      "['grape', 'apple', 'strawberry', 'waxberry', 'pitaya', 'pear', 'mango']\n",
      "['pitaya', 'pear']\n",
      "['mango', 'pear', 'pitaya', 'waxberry', 'strawberry', 'apple', 'grape']\n"
     ]
    }
   ],
   "source": [
    "fruits = ['grape', 'apple', 'strawberry', 'waxberry']\n",
    "fruits += ['pitaya', 'pear', 'mango'] # 添加\n",
    "for fruit in fruits: # 循环遍历列表元素，并首字母大写，title针对元素，不是list\n",
    "    print(fruit.title(), end=' ')\n",
    "print()\n",
    "   \n",
    "fruits2 = fruits[1:4]  # 列表切片\n",
    "print(fruits2)\n",
    "# fruit3 = fruits  # 没有复制列表只创建了新的引用    \n",
    "fruits3 = fruits[:] # 可以通过完整切片操作来复制列表\n",
    "print(fruits3)\n",
    "fruits4 = fruits[-3:-1]\n",
    "print(fruits4) # 可以通过反向切片操作来获得倒转后的列表的拷贝\n",
    "fruits5 = fruits[::-1]\n",
    "print(fruits5)"
   ]
  },
  {
   "cell_type": "code",
   "execution_count": 101,
   "metadata": {},
   "outputs": [
    {
     "name": "stdout",
     "output_type": "stream",
     "text": [
      "['orange', 'apple', 'zoo', 'internationalization', 'blueberry']\n",
      "['apple', 'blueberry', 'internationalization', 'orange', 'zoo']\n",
      "['zoo', 'orange', 'internationalization', 'blueberry', 'apple']\n",
      "['zoo', 'apple', 'orange', 'blueberry', 'internationalization']\n",
      "['zoo', 'orange', 'internationalization', 'blueberry', 'apple']\n"
     ]
    }
   ],
   "source": [
    "list1 = ['orange', 'apple', 'zoo', 'internationalization', 'blueberry']\n",
    "list2 = sorted(list1)# sorted函数返回列表排序后的拷贝不会修改传入的列表\n",
    "    # 函数的设计就应该像sorted函数一样尽可能不产生副作用\n",
    "list3 = sorted(list1, reverse=True)\n",
    "    # 通过key关键字参数指定根据字符串长度进行排序而不是默认的字母表顺序\n",
    "list4 = sorted(list1, key=len)\n",
    "print(list1)\n",
    "print(list2)\n",
    "print(list3)\n",
    "print(list4)\n",
    "list1.sort(reverse=True) # 给列表对象发出排序消息直接在列表对象上进行排序\n",
    "print(list1)"
   ]
  },
  {
   "cell_type": "markdown",
   "metadata": {},
   "source": [
    "## 元组\n",
    "\n",
    "Python 的元组与列表类似，不同之处在于元组的元素不能修改\n",
    "\n",
    "- 如果不需要对元素进行添加、删除、修改的时候，可以考虑使用元组，当然如果一个方法要返回多个值，使用元组也是不错的选择。\n",
    "- 元组在创建时间和占用的空间上面都优于列表。"
   ]
  },
  {
   "cell_type": "code",
   "execution_count": 103,
   "metadata": {},
   "outputs": [
    {
     "name": "stdout",
     "output_type": "stream",
     "text": [
      "('骆昊', 38, True, '四川成都')\n",
      "骆昊\n",
      "四川成都\n",
      "骆昊\n",
      "38\n",
      "True\n",
      "四川成都\n",
      "('王大锤', 20, True, '云南昆明')\n",
      "['王大锤', 20, True, '云南昆明']\n",
      "['李小龙', 25, True, '云南昆明']\n",
      "('apple', 'banana', 'orange')\n"
     ]
    }
   ],
   "source": [
    "# 定义元组\n",
    "t = ('骆昊', 38, True, '四川成都')\n",
    "print(t)\n",
    "# 获取元组中的元素\n",
    "print(t[0])\n",
    "print(t[3])\n",
    "# 遍历元组中的值\n",
    "for member in t:\n",
    "    print(member)\n",
    "# 重新给元组赋值\n",
    "# t[0] = '王大锤'  # TypeError\n",
    "# 变量t重新引用了新的元组原来的元组将被垃圾回收\n",
    "t = ('王大锤', 20, True, '云南昆明')\n",
    "print(t)\n",
    "# 将元组转换成列表\n",
    "person = list(t)\n",
    "print(person)\n",
    "# 列表是可以修改它的元素的\n",
    "person[0] = '李小龙'\n",
    "person[1] = 25\n",
    "print(person)\n",
    "# 将列表转换成元组\n",
    "fruits_list = ['apple', 'banana', 'orange']\n",
    "fruits_tuple = tuple(fruits_list)\n",
    "print(fruits_tuple)"
   ]
  },
  {
   "cell_type": "code",
   "execution_count": 108,
   "metadata": {},
   "outputs": [
    {
     "name": "stdout",
     "output_type": "stream",
     "text": [
      "58.3 ns ± 0.779 ns per loop (mean ± std. dev. of 7 runs, 10000000 loops each)\n",
      "14.6 ns ± 0.298 ns per loop (mean ± std. dev. of 7 runs, 100000000 loops each)\n"
     ]
    }
   ],
   "source": [
    "import sys\n",
    "%timeit [1, 2, 3, 4, 5]\n",
    "%timeit (1, 2, 3, 4, 5) "
   ]
  },
  {
   "cell_type": "code",
   "execution_count": 112,
   "metadata": {},
   "outputs": [
    {
     "name": "stdout",
     "output_type": "stream",
     "text": [
      "104\n",
      "88\n"
     ]
    }
   ],
   "source": [
    "import sys\n",
    "print(sys.getsizeof([1,2,3,4,5]))\n",
    "print(sys.getsizeof((1, 2, 3, 4, 5)))"
   ]
  },
  {
   "cell_type": "markdown",
   "metadata": {},
   "source": [
    "## 字符串\n"
   ]
  },
  {
   "cell_type": "code",
   "execution_count": 46,
   "metadata": {},
   "outputs": [
    {
     "name": "stdout",
     "output_type": "stream",
     "text": [
      "13\n",
      "Hello, world!\n",
      "HELLO, WORLD!\n",
      "8\n",
      "-1\n",
      "False\n",
      "True\n",
      "True\n",
      "******************hello, world!*******************\n",
      "                                     hello, world!\n",
      "c\n",
      "c12\n",
      "c123456\n",
      "c246\n",
      "ac246\n",
      "654321cba\n",
      "45\n",
      "False\n",
      "False\n",
      "True\n",
      "  jackfrued@126.com \n",
      "jackfrued@126.com\n"
     ]
    }
   ],
   "source": [
    "def main():\n",
    "    str1 = 'hello, world!'\n",
    "    # 通过len函数计算字符串的长度\n",
    "    print(len(str1))  # 13\n",
    "    # 获得字符串首字母大写的拷贝\n",
    "    print(str1.capitalize())  # Hello, world!\n",
    "    # 获得字符串变大写后的拷贝\n",
    "    print(str1.upper())  # HELLO, WORLD!\n",
    "    # 从字符串中查找子串所在位置\n",
    "    print(str1.find('or'))  # 8\n",
    "    print(str1.find('shit'))  # -1\n",
    "    # 与find类似但找不到子串时会引发异常\n",
    "    # print(str1.index('or'))\n",
    "    # print(str1.index('shit'))\n",
    "    # 检查字符串是否以指定的字符串开头\n",
    "    print(str1.startswith('He'))  # False\n",
    "    print(str1.startswith('hel'))  # True\n",
    "    # 检查字符串是否以指定的字符串结尾\n",
    "    print(str1.endswith('!'))  # True\n",
    "    # 将字符串以指定的宽度居中并在两侧填充指定的字符\n",
    "    print(str1.center(50, '*'))\n",
    "    # 将字符串以指定的宽度靠右放置左侧填充指定的字符\n",
    "    print(str1.rjust(50, ' '))\n",
    "    str2 = 'abc123456'\n",
    "    # 从字符串中取出指定位置的字符(下标运算)\n",
    "    print(str2[2])  # c\n",
    "    # 字符串切片(从指定的开始索引到指定的结束索引)\n",
    "    print(str2[2:5])  # c12\n",
    "    print(str2[2:])  # c123456\n",
    "    print(str2[2::2])  # c246\n",
    "    print(str2[::2])  # ac246\n",
    "    print(str2[::-1])  # 654321cba\n",
    "    print(str2[-3:-1])  # 45\n",
    "    # 检查字符串是否由数字构成\n",
    "    print(str2.isdigit())  # False\n",
    "    # 检查字符串是否以字母构成\n",
    "    print(str2.isalpha())  # False\n",
    "    # 检查字符串是否以数字和字母构成\n",
    "    print(str2.isalnum())  # True\n",
    "    str3 = '  jackfrued@126.com '\n",
    "    print(str3)\n",
    "    # 获得字符串修剪左右两侧空格的拷贝\n",
    "    print(str3.strip())\n",
    "\n",
    "\n",
    "if __name__ == '__main__':\n",
    "    main()"
   ]
  },
  {
   "cell_type": "markdown",
   "metadata": {},
   "source": [
    "## 集合\n",
    "\n",
    "Python中的集合跟数学上的集合是一致的，不允许有重复元素，而且可以进行交集、并集、差集等运算。"
   ]
  },
  {
   "cell_type": "code",
   "execution_count": 113,
   "metadata": {},
   "outputs": [
    {
     "name": "stdout",
     "output_type": "stream",
     "text": [
      "{1, 2, 3}\n",
      "Length = 3\n",
      "{1, 2, 3, 4, 5, 6, 7, 8, 9}\n",
      "{1, 2, 3, 4, 5}\n",
      "{1, 2, 3, 4, 5, 6, 7, 8, 9, 11, 12}\n",
      "{1, 2, 3, 6, 7, 8, 9, 11, 12}\n",
      "1 4 9 36 49 64 81 121 144 \n",
      "1\n",
      "{2, 3}\n",
      "{1, 2, 3}\n",
      "{1, 2, 3, 4, 5, 6, 7, 8, 9, 11, 12}\n",
      "{4, 5}\n",
      "{4, 5, 6, 7, 8, 9, 11, 12}\n",
      "False\n",
      "True\n",
      "False\n",
      "True\n"
     ]
    }
   ],
   "source": [
    "def main():\n",
    "    set1 = {1, 2, 3, 3, 3, 2}\n",
    "    print(set1)\n",
    "    print('Length =', len(set1))\n",
    "    set2 = set(range(1, 10))\n",
    "    print(set2)\n",
    "    set1.add(4)\n",
    "    set1.add(5)\n",
    "    set2.update([11, 12])\n",
    "    print(set1)\n",
    "    print(set2)\n",
    "    set2.discard(5)\n",
    "    # remove的元素如果不存在会引发KeyError\n",
    "    if 4 in set2:\n",
    "        set2.remove(4)\n",
    "    print(set2)\n",
    "    # 遍历集合容器\n",
    "    for elem in set2:\n",
    "        print(elem ** 2, end=' ')\n",
    "    print()\n",
    "    # 将元组转换成集合\n",
    "    set3 = set((1, 2, 3, 3, 2, 1))\n",
    "    print(set3.pop())\n",
    "    print(set3)\n",
    "    # 集合的交集、并集、差集、对称差运算\n",
    "    print(set1 & set2)\n",
    "    # print(set1.intersection(set2))\n",
    "    print(set1 | set2)\n",
    "    # print(set1.union(set2))\n",
    "    print(set1 - set2)\n",
    "    # print(set1.difference(set2))\n",
    "    print(set1 ^ set2)\n",
    "    # print(set1.symmetric_difference(set2))\n",
    "    # 判断子集和超集\n",
    "    print(set2 <= set1)\n",
    "    # print(set2.issubset(set1))\n",
    "    print(set3 <= set1)\n",
    "    # print(set3.issubset(set1))\n",
    "    print(set1 >= set2)\n",
    "    # print(set1.issuperset(set2))\n",
    "    print(set1 >= set3)\n",
    "    # print(set1.issuperset(set3))\n",
    "\n",
    "\n",
    "if __name__ == '__main__':\n",
    "    main()"
   ]
  },
  {
   "cell_type": "markdown",
   "metadata": {},
   "source": [
    "## 字典\n",
    "\n",
    "字典是另一种可变容器模型，类似于我们生活中使用的字典，它可以存储任意类型对象，与列表、集合不同的是，字典的每个元素都是由一个键和一个值组成的“键值对”，键和值通过冒号分开。"
   ]
  },
  {
   "cell_type": "code",
   "execution_count": 114,
   "metadata": {},
   "outputs": [
    {
     "name": "stdout",
     "output_type": "stream",
     "text": [
      "95\n",
      "82\n",
      "骆昊\t--->\t95\n",
      "白元芳\t--->\t78\n",
      "狄仁杰\t--->\t82\n",
      "{'骆昊': 95, '白元芳': 65, '狄仁杰': 82, '诸葛王朗': 71, '冷面': 67, '方启鹤': 85}\n",
      "None\n",
      "60\n",
      "('方启鹤', 85)\n",
      "('冷面', 67)\n",
      "95\n",
      "{}\n"
     ]
    }
   ],
   "source": [
    "def main():\n",
    "    scores = {'骆昊': 95, '白元芳': 78, '狄仁杰': 82}\n",
    "    # 通过键可以获取字典中对应的值\n",
    "    print(scores['骆昊'])\n",
    "    print(scores['狄仁杰'])\n",
    "    # 对字典进行遍历(遍历的其实是键再通过键取对应的值)\n",
    "    for elem in scores:\n",
    "        print('%s\\t--->\\t%d' % (elem, scores[elem]))\n",
    "    # 更新字典中的元素\n",
    "    scores['白元芳'] = 65\n",
    "    scores['诸葛王朗'] = 71\n",
    "    scores.update(冷面=67, 方启鹤=85)\n",
    "    print(scores)\n",
    "    if '武则天' in scores:\n",
    "        print(scores['武则天'])\n",
    "    print(scores.get('武则天'))\n",
    "    # get方法也是通过键获取对应的值但是可以设置默认值\n",
    "    print(scores.get('武则天', 60))\n",
    "    # 删除字典中的元素\n",
    "    print(scores.popitem())\n",
    "    print(scores.popitem())\n",
    "    print(scores.pop('骆昊', 100))\n",
    "    # 清空字典\n",
    "    scores.clear()\n",
    "    print(scores)\n",
    "\n",
    "\n",
    "if __name__ == '__main__':\n",
    "    main()"
   ]
  },
  {
   "cell_type": "code",
   "execution_count": 61,
   "metadata": {},
   "outputs": [
    {
     "name": "stdout",
     "output_type": "stream",
     "text": [
      "请输入: 20\n",
      "大一点\n",
      "请输入: 60\n",
      "小一点\n",
      "请输入: 40\n",
      "小一点\n",
      "请输入: 30\n",
      "小一点\n",
      "请输入: 24\n",
      "大一点\n",
      "请输入: 28\n",
      "大一点\n",
      "请输入: 29\n",
      "恭喜你猜对了!\n",
      "你总共猜了7次\n"
     ]
    }
   ],
   "source": [
    "# 猜数字游戏\n",
    "import random\n",
    "\n",
    "answer = random.randint(1, 100)\n",
    "counter = 0\n",
    "while True:\n",
    "    counter += 1\n",
    "    number = int(input('请输入: '))\n",
    "    if number < answer:\n",
    "        print('大一点')\n",
    "    elif number > answer:\n",
    "        print('小一点')\n",
    "    else:\n",
    "        print('恭喜你猜对了!')\n",
    "        break\n",
    "print('你总共猜了%d次' % counter)\n",
    "if counter > 7:\n",
    "    print('你的智商余额明显不足')"
   ]
  }
 ],
 "metadata": {
  "kernelspec": {
   "display_name": "Python 3",
   "language": "python",
   "name": "python3"
  },
  "language_info": {
   "codemirror_mode": {
    "name": "ipython",
    "version": 3
   },
   "file_extension": ".py",
   "mimetype": "text/x-python",
   "name": "python",
   "nbconvert_exporter": "python",
   "pygments_lexer": "ipython3",
   "version": "3.6.4"
  },
  "toc": {
   "base_numbering": "0",
   "nav_menu": {},
   "number_sections": true,
   "sideBar": true,
   "skip_h1_title": false,
   "title_cell": "Table of Contents",
   "title_sidebar": "Contents",
   "toc_cell": false,
   "toc_position": {
    "height": "calc(100% - 180px)",
    "left": "10px",
    "top": "150px",
    "width": "274px"
   },
   "toc_section_display": true,
   "toc_window_display": true
  }
 },
 "nbformat": 4,
 "nbformat_minor": 2
}
