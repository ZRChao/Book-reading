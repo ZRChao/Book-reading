{
 "cells": [
  {
   "cell_type": "markdown",
   "metadata": {},
   "source": [
    "## Task3 \n",
    "\n",
    "1. dict字典 (见task2)\n",
    "    * 定义\n",
    "    * 创建\n",
    "    * 字典的方法\n",
    "2. 集合 （见task2）\n",
    "    * 特性\n",
    "    * 创建\n",
    "    * 方法\n",
    "\n",
    "3. 判断语句（要求掌握多条件判断）（见task 2）\n",
    "4. 三目表达式\n",
    "5. 循环语句\n",
    "\n",
    "打卡日期，5.15\n",
    "地址 https://docs.qq.com/doc/DREJKYnpVUERhVFpG?localnum=1&wxsdk=2.6.6&loginTime=1557923952503&ac=share&policy=0&right_flag=0"
   ]
  },
  {
   "cell_type": "markdown",
   "metadata": {},
   "source": [
    "## 三目表达式\n",
    "条件运算符由两个符号组成\"?\"和\":\", 要求有3个操作对象,所以也叫它三目运算符.\n",
    "\n",
    "```min=(a<b)?a:b```,其中\"(a<b)?a:b\"是一个\"条件表达式\",它是这样执行的:　如果'a<b'为真,则表达式取a值,否则取b值. **但在python中只有类似的替代办法，如果a>b的结果为真，h=\"变量1\",如果为假，h=\"变量2\"**\n"
   ]
  },
  {
   "cell_type": "code",
   "execution_count": 22,
   "metadata": {},
   "outputs": [
    {
     "name": "stdout",
     "output_type": "stream",
     "text": [
      "x\n"
     ]
    }
   ],
   "source": [
    "b='x' if (1<2) else 'y'\n",
    "print(b)"
   ]
  },
  {
   "cell_type": "markdown",
   "metadata": {},
   "source": [
    "## 循环语句"
   ]
  },
  {
   "cell_type": "code",
   "execution_count": 23,
   "metadata": {},
   "outputs": [
    {
     "name": "stdout",
     "output_type": "stream",
     "text": [
      "2550\n",
      "2550\n",
      "2550\n"
     ]
    }
   ],
   "source": [
    "# 循环实现1~100之间的偶数求和\n",
    "\n",
    "# for-in循环\n",
    "sum1 = 0\n",
    "for x in range(1, 101):\n",
    "    if x % 2 == 0:\n",
    "        sum1 += x\n",
    "print(sum1)\n",
    "\n",
    "# while \n",
    "sum2, x = 0,0\n",
    "while x < 101 :\n",
    "    x +=1\n",
    "    if x % 2 == 0:\n",
    "        sum2 +=x\n",
    "print(sum2)\n",
    "\n",
    "# while \n",
    "sum3, x = 0,0\n",
    "while x < 101 :\n",
    "    x +=1\n",
    "    if x % 2 != 0:\n",
    "        continue # 跳过当前轮次循环的剩余部分代码，直接开始下一轮循环 next\n",
    "    sum3 +=x\n",
    "print(sum3)"
   ]
  },
  {
   "cell_type": "code",
   "execution_count": 24,
   "metadata": {},
   "outputs": [
    {
     "name": "stdout",
     "output_type": "stream",
     "text": [
      "请输入: 50\n",
      "小一点\n",
      "请输入: 25\n",
      "恭喜你猜对了!\n",
      "你总共猜了2次\n"
     ]
    }
   ],
   "source": [
    "# while 循环 \n",
    "# 猜数字游戏\n",
    "import random\n",
    "\n",
    "answer = random.randint(1, 100)\n",
    "counter = 0\n",
    "while True:\n",
    "    counter += 1\n",
    "    number = int(input('请输入: '))\n",
    "    if number < answer:\n",
    "        print('大一点')\n",
    "    elif number > answer:\n",
    "        print('小一点')\n",
    "    else:\n",
    "        print('恭喜你猜对了!')\n",
    "        break # 退出一层循环\n",
    "print('你总共猜了%d次' % counter)\n",
    "if counter > 7:\n",
    "    print('你的智商余额明显不足')"
   ]
  },
  {
   "cell_type": "code",
   "execution_count": 25,
   "metadata": {},
   "outputs": [
    {
     "name": "stdout",
     "output_type": "stream",
     "text": [
      "请输入一个正整数: 14\n",
      "14不是素数\n"
     ]
    }
   ],
   "source": [
    "# 输入一个正整数判断它是不是素数\n",
    "from math import sqrt\n",
    "\n",
    "num = int(input('请输入一个正整数: '))\n",
    "end = int(sqrt(num))\n",
    "is_prime = True\n",
    "for x in range(2, end + 1):\n",
    "    if num % x == 0:\n",
    "        is_prime = False\n",
    "        break\n",
    "if is_prime and num != 1:\n",
    "    print('%d是素数' % num)\n",
    "else:\n",
    "    print('%d不是素数' % num)"
   ]
  }
 ],
 "metadata": {
  "kernelspec": {
   "display_name": "Python 3",
   "language": "python",
   "name": "python3"
  },
  "language_info": {
   "codemirror_mode": {
    "name": "ipython",
    "version": 3
   },
   "file_extension": ".py",
   "mimetype": "text/x-python",
   "name": "python",
   "nbconvert_exporter": "python",
   "pygments_lexer": "ipython3",
   "version": "3.6.4"
  },
  "toc": {
   "base_numbering": 1,
   "nav_menu": {},
   "number_sections": true,
   "sideBar": true,
   "skip_h1_title": false,
   "title_cell": "Table of Contents",
   "title_sidebar": "Contents",
   "toc_cell": false,
   "toc_position": {},
   "toc_section_display": true,
   "toc_window_display": true
  }
 },
 "nbformat": 4,
 "nbformat_minor": 2
}
