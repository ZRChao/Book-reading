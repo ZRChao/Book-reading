{
 "cells": [
  {
   "cell_type": "markdown",
   "metadata": {},
   "source": [
    "##  Python基础组队学习任务一\n",
    "\n",
    "https://github.com/datawhalechina/Python/blob/master/%E5%AD%A6%E4%B9%A0%E4%BB%BB%E5%8A%A1/Task1.md\n",
    "\n",
    "\n",
    "### 作业要求 每次任务截止时间前\n",
    "\n",
    "① 在<学习总群>分享学习链接+交流，格式：组队学习名称+Taskx+链接\n",
    "\n",
    "② 在<本打卡群>接龙打卡\n",
    "\n",
    "注：编号按Task1的打卡顺序先打先得，打完卡请修改自己的群昵称：编号 - 昵称！\n",
    "负责人：大顺; 督促金：李福\n",
    "未按时打卡者将会被清退；违规者（假打卡等情况），将列入黑名单公示\n",
    "\n",
    "群聊天记录搜索888，可查看重要群公告~\n",
    "\n",
    "### Task1（2day）\n",
    "\n",
    "- 1.环境搭建\n",
    "    - 1)Anaconda环境配置\n",
    "    - 2)解释器\n",
    "- 2.python初体验\n",
    "    - 1)print and input\n",
    "- 3.python 基础讲解\n",
    "   - 1)python变量特征+命名规则\n",
    "   - 2)注释方法\n",
    "   - 3)python中“：”的作用\n",
    "   - 4)学会使用dir()及help()\n",
    "   - 5)import使用\n",
    "   - 6)pep8 介绍\n",
    "   \n",
    "- 4.pyhon 数值基本知识\n",
    "   - 1)python 中数值类型，int float bool e记法等\n",
    "   - 2)算数运算符\n",
    "   - 3)逻辑运算符\n",
    "   - 4)成员运算符\n",
    "   - 5)身份运算符\n",
    "   - 6)运算符优先级\n",
    "   \n",
    "   \n",
    "### 请各位同学注意一下几点：\n",
    "- 1）为方便打卡，请大家按下图【修改群昵称】：编号-昵称，例如：001 - 小明\n",
    "- 2）注册CSDN或者Github，便于完成后续作业\n",
    "- 3）作业完成后，将作业链接添加到当天腾讯文档对应的自己编号那一栏 [腾讯文档链接在每天都作业发布时会给出](https://docs.qq.com/doc/DRE5Yb1ZlbHphSXJo) \n",
    "-----------------\n",
    "\n",
    "### 参考资料\n",
    "\n",
    "重磅 | 完备的 AI 学习路线，最详细的资源整理！ https://mp.weixin.qq.com/s/fUNDdCzJrWBoKYh1tT4gSw\n",
    "\n",
    "廖雪峰python学习笔记 https://blog.csdn.net/datawhale/article/category/7779959\n",
    "\n",
    "Python - 100天从新手到大师 https://github.com/jackfrued/Python-100-Days\n"
   ]
  },
  {
   "cell_type": "markdown",
   "metadata": {},
   "source": [
    "## 环境搭建\n",
    "\n",
    "有许多安装python的方式，Mac终端输入python可以直接进入python环境，但是有很多依赖的包无法调用，这时候Anaconda是一个非常不错的选择。他集成了python编译环境如Ipython，Spyder，jupyter等，以及上百个常用的python包，自然其要求的存储空间也很大。我们可以根据自己电脑的系统与配置在[Anaconda](https://www.anaconda.com/distribution/#download-section)主页上下载相应的安装文件。\n",
    "\n",
    "![1](anaconda.png)\n",
    "\n",
    "\n",
    "目前推荐下载python3版本，因为python2版本已经终止维护了，将来更多的都会转到python3上。下载安装文件500-600M,在安装过程中根据需要点击确定即可，要求空间2G+。下载完成点击Anaconda的巨蟒图标，里面包含了许多的IDE。 \n",
    "\n",
    "![2](屏幕快照 2019-05-11 下午12.37.38.png)\n",
    "\n",
    "\n",
    "对于python的解释器，终端直接输入python2或python3即可进入相应版本的命令行模式，在Anaconda中，IPython也是选择之一，但是这个更加简洁。但是作为新手入门，大家一般推荐[pycharm](https://www.jetbrains.com/pycharm/),具体可以参考\n",
    "- [喏，你们要的 PyCharm 快速上手指南](https://zhuanlan.zhihu.com/p/26066151)或\n",
    "- [Python3 PyQt5 pycharm 环境搭建](https://www.jianshu.com/p/094928ac0b73)。\n",
    "\n",
    "不过我更习惯使用jupyter或者spyder。本文档便是使用jupyter notebook编译而成,他不仅可以实现文本编辑，代码编写而且支持多种语言包括python，R，shell等。当然jupyterlab也是一个不错的选择，并且其可以同时协作多个jupyter文档，切换将更加方便。\n",
    "\n",
    "+ 简而言之，Jupyter Notebook是以网页的形式打开，可以在网页页面中直接编写代码和运行代码，代码的运行结果也会直接在代码块下显示。如在编程过程中需要编写说明文档，可在同一个页面中直接编写，便于作及时的说明和解释。\n",
    "\n",
    "\n",
    "**参考网址**：\n",
    "\n",
    "- [Anaconda介绍、安装及使用教程](https://www.jianshu.com/p/62f155eb6ac5)\n",
    "\n",
    "- [Jupyter Notebook介绍、安装及使用教程](https://www.jianshu.com/p/91365f343585)推荐阅读\n",
    "\n",
    "- [如何在jupyter notebook中包含或添加一张图片](https://vimsky.com/article/3721.html)"
   ]
  },
  {
   "cell_type": "markdown",
   "metadata": {},
   "source": [
    "## python初体验\n",
    "print and input"
   ]
  },
  {
   "cell_type": "code",
   "execution_count": 1,
   "metadata": {},
   "outputs": [
    {
     "name": "stdout",
     "output_type": "stream",
     "text": [
      "2\n",
      "1\n",
      "<class 'int'>\n"
     ]
    }
   ],
   "source": [
    "1+1\n",
    "a=1 # Python 使用等号＝作为赋值运算符\n",
    "print(1+1)\n",
    "print(a) # a变量\n",
    "print(type(a))"
   ]
  },
  {
   "cell_type": "code",
   "execution_count": 2,
   "metadata": {},
   "outputs": [
    {
     "name": "stdout",
     "output_type": "stream",
     "text": [
      "a \thello world\n",
      "<class 'str'>\n"
     ]
    }
   ],
   "source": [
    "a='hello world'\n",
    "print('a','\\t',end='') # a字符\n",
    "print(a)\n",
    "print(type(a))"
   ]
  },
  {
   "cell_type": "code",
   "execution_count": 3,
   "metadata": {},
   "outputs": [
    {
     "name": "stdout",
     "output_type": "stream",
     "text": [
      "这里a可以为任意数字，字符\n",
      "这里a可以为任意数字，字符\n"
     ]
    },
    {
     "data": {
      "text/plain": [
       "'多行注释\\n这里a可以为任意数字，字符\\n等等'"
      ]
     },
     "execution_count": 3,
     "metadata": {},
     "output_type": "execute_result"
    }
   ],
   "source": [
    "a=input()\n",
    "print(a)\n",
    "'''多行注释\n",
    "这里a可以为任意数字，字符\n",
    "等等'''"
   ]
  },
  {
   "cell_type": "markdown",
   "metadata": {},
   "source": [
    "## python 基础讲解\n",
    "\n",
    "- 1.Python 是弱类型语言，弱类型语言有两个典型特征：\n",
    "    - 变量无须声明即可直接赋值：对一个不存在的变量赋值就相当于定义了一个新变量。\n",
    "    - 变量的数据类型可以动态改变：同一个变量可以一会儿被赋值为整数值，一会儿被赋值为字符串。\n",
    "    \n",
    "- 2.Python 需要使用标识符给变量命名，其实标识符就是用于给程序中变量、类、方法命名的符号（简单来说，标识符就是合法的名字）,Python 语言的标识符必须以字母、下画线（_）开头，后面可以跟任意数目的字母、数字和下画线（_）。此处的字母并不局限于 26 个英文字母，可以包含中文字符、日文字符等。在使用标识符时，需要注意如下规则：\n",
    "    - 标识符可以由字母、数字、下画线（_）组成，其中数字不能打头。\n",
    "    - 标识符不能是 Python 关键字，但可以包含关键字。\n",
    "    - 标识符不能包含空格。\n",
    "\n",
    "- 3.Python 注释分两类\n",
    "    - 单行注释 ```# 空格+注释内容即可```\n",
    "    - 多行注释 ```''' 内容 '''```\n",
    " \n",
    "- 4.python中冒号\n",
    "    - 用于定义分片、步长。但是注意```a```与```a[:]``` 不一样， 简单来说，```a[:]``` 是创建 ```a``` 的一个副本，这样在代码中对 ```a[:]``` 进行操作，就不会改变 ```a``` 的值。而若直接对 ```a``` 进行操作，那么 ```a``` 的值会受到操作的影响，如 ```append()``` 等。\n",
    "    - 出现在函数定义语句末尾、if for while语句末尾,表示下面的代码块应当缩进，从属于if for while语句\n",
    "    - 出现在字典定义当中用于分开键和值 ```d = {'a':97, 'b':98, 'c':99}```\n",
    "\n",
    "**参考** \n",
    "\n",
    "1.http://c.biancheng.net/view/2171.html\n",
    "\n",
    "2.https://www.runoob.com/python/python-built-in-functions.html\n"
   ]
  },
  {
   "cell_type": "code",
   "execution_count": 4,
   "metadata": {},
   "outputs": [
    {
     "name": "stdout",
     "output_type": "stream",
     "text": [
      "[1, 2, 3, 4, 5]\n",
      "[1, 2, 3, 4, 5]\n",
      "False\n",
      "4456818696\t4456820232\n",
      "[2, 3, 4]\n",
      "[1, 2, 3, 4]\n",
      "[4]\n"
     ]
    }
   ],
   "source": [
    "a=[1,2,3,4,5]\n",
    "print(a)\n",
    "print(a[:])\n",
    "print(a is a[:]) # 不一样\n",
    "print(id(a), end='\\t');print(id(a[:]))\n",
    "print(a[1:4]) # python从0开始计数\n",
    "print(a[:-1]) # 去掉最后一个\n",
    "print(a[-2:-1]) # 从后往前取"
   ]
  },
  {
   "cell_type": "markdown",
   "metadata": {},
   "source": [
    "- 5. dir()用来查询一个类或者对象所有属性，不带参数时，返回当前范围内的变量、方法和定义的类型列表；\n",
    "\n",
    "- 6. help()函数帮助我们了解模块、类型、对象、方法、属性的详细信息\n",
    "    - 查看python所有的关键字：```help(\"keywords\")```\n",
    "    - 查看python所有的```modules：help(\"modules\")```\n",
    "    - 单看python所有的modules中包含指定字符串的modules： ```help(\"modules yourstr\")```\n",
    "    - 查看python中常见的topics： ```help(\"topics\")```\n",
    "    - 查看python标准库中的module：```import os.path + help(\"os.path\")```\n",
    "    - 查看python内置的类型：```help(\"list\")```\n",
    "    - 查看python类型的成员方法：```help(\"str.find\") ```\n",
    "    - 查看python内置函数：```help(\"open\")```\n"
   ]
  },
  {
   "cell_type": "code",
   "execution_count": 43,
   "metadata": {},
   "outputs": [
    {
     "name": "stdout",
     "output_type": "stream",
     "text": [
      "['In', 'Out', '_', '_12', '_14', '_15', '_16', '_17', '_18', '_21', '_22', '_23', '_24', '_3', '__', '___', '__builtin__', '__builtins__', '__doc__', '__loader__', '__name__', '__package__', '__spec__', '_dh', '_i', '_i1', '_i10', '_i11', '_i12', '_i13', '_i14', '_i15', '_i16', '_i17', '_i18', '_i19', '_i2', '_i20', '_i21', '_i22', '_i23', '_i24', '_i25', '_i26', '_i27', '_i28', '_i29', '_i3', '_i30', '_i31', '_i32', '_i33', '_i34', '_i35', '_i36', '_i37', '_i38', '_i39', '_i4', '_i40', '_i41', '_i42', '_i43', '_i5', '_i6', '_i7', '_i8', '_i9', '_ih', '_ii', '_iii', '_oh', 'a', 'b', 'c', 'd', 'datetime', 'dict', 'dt', 'exit', 'get_ipython', 'list', 'quit', 'str', 'student', 'tinydict', 'tinylist', 'tinytuple', 'tuple']\n",
      "['__abs__', '__add__', '__and__', '__bool__', '__ceil__', '__class__', '__delattr__', '__dir__', '__divmod__', '__doc__', '__eq__', '__float__', '__floor__', '__floordiv__', '__format__', '__ge__', '__getattribute__', '__getnewargs__', '__gt__', '__hash__', '__index__', '__init__', '__init_subclass__', '__int__', '__invert__', '__le__', '__lshift__', '__lt__', '__mod__', '__mul__', '__ne__', '__neg__', '__new__', '__or__', '__pos__', '__pow__', '__radd__', '__rand__', '__rdivmod__', '__reduce__', '__reduce_ex__', '__repr__', '__rfloordiv__', '__rlshift__', '__rmod__', '__rmul__', '__ror__', '__round__', '__rpow__', '__rrshift__', '__rshift__', '__rsub__', '__rtruediv__', '__rxor__', '__setattr__', '__sizeof__', '__str__', '__sub__', '__subclasshook__', '__truediv__', '__trunc__', '__xor__', 'bit_length', 'conjugate', 'denominator', 'from_bytes', 'imag', 'numerator', 'real', 'to_bytes']\n",
      "Help on int object:\n",
      "\n",
      "class int(object)\n",
      " |  int(x=0) -> integer\n",
      " |  int(x, base=10) -> integer\n",
      " |  \n",
      " |  Convert a number or string to an integer, or return 0 if no arguments\n",
      " |  are given.  If x is a number, return x.__int__().  For floating point\n",
      " |  numbers, this truncates towards zero.\n",
      " |  \n",
      " |  If x is not a number or if base is given, then x must be a string,\n",
      " |  bytes, or bytearray instance representing an integer literal in the\n",
      " |  given base.  The literal can be preceded by '+' or '-' and be surrounded\n",
      " |  by whitespace.  The base defaults to 10.  Valid bases are 0 and 2-36.\n",
      " |  Base 0 means to interpret the base from the string as an integer literal.\n",
      " |  >>> int('0b100', base=0)\n",
      " |  4\n",
      " |  \n",
      " |  Methods defined here:\n",
      " |  \n",
      " |  __abs__(self, /)\n",
      " |      abs(self)\n",
      " |  \n",
      " |  __add__(self, value, /)\n",
      " |      Return self+value.\n",
      " |  \n",
      " |  __and__(self, value, /)\n",
      " |      Return self&value.\n",
      " |  \n",
      " |  __bool__(self, /)\n",
      " |      self != 0\n",
      " |  \n",
      " |  __ceil__(...)\n",
      " |      Ceiling of an Integral returns itself.\n",
      " |  \n",
      " |  __divmod__(self, value, /)\n",
      " |      Return divmod(self, value).\n",
      " |  \n",
      " |  __eq__(self, value, /)\n",
      " |      Return self==value.\n",
      " |  \n",
      " |  __float__(self, /)\n",
      " |      float(self)\n",
      " |  \n",
      " |  __floor__(...)\n",
      " |      Flooring an Integral returns itself.\n",
      " |  \n",
      " |  __floordiv__(self, value, /)\n",
      " |      Return self//value.\n",
      " |  \n",
      " |  __format__(...)\n",
      " |      default object formatter\n",
      " |  \n",
      " |  __ge__(self, value, /)\n",
      " |      Return self>=value.\n",
      " |  \n",
      " |  __getattribute__(self, name, /)\n",
      " |      Return getattr(self, name).\n",
      " |  \n",
      " |  __getnewargs__(...)\n",
      " |  \n",
      " |  __gt__(self, value, /)\n",
      " |      Return self>value.\n",
      " |  \n",
      " |  __hash__(self, /)\n",
      " |      Return hash(self).\n",
      " |  \n",
      " |  __index__(self, /)\n",
      " |      Return self converted to an integer, if self is suitable for use as an index into a list.\n",
      " |  \n",
      " |  __int__(self, /)\n",
      " |      int(self)\n",
      " |  \n",
      " |  __invert__(self, /)\n",
      " |      ~self\n",
      " |  \n",
      " |  __le__(self, value, /)\n",
      " |      Return self<=value.\n",
      " |  \n",
      " |  __lshift__(self, value, /)\n",
      " |      Return self<<value.\n",
      " |  \n",
      " |  __lt__(self, value, /)\n",
      " |      Return self<value.\n",
      " |  \n",
      " |  __mod__(self, value, /)\n",
      " |      Return self%value.\n",
      " |  \n",
      " |  __mul__(self, value, /)\n",
      " |      Return self*value.\n",
      " |  \n",
      " |  __ne__(self, value, /)\n",
      " |      Return self!=value.\n",
      " |  \n",
      " |  __neg__(self, /)\n",
      " |      -self\n",
      " |  \n",
      " |  __new__(*args, **kwargs) from builtins.type\n",
      " |      Create and return a new object.  See help(type) for accurate signature.\n",
      " |  \n",
      " |  __or__(self, value, /)\n",
      " |      Return self|value.\n",
      " |  \n",
      " |  __pos__(self, /)\n",
      " |      +self\n",
      " |  \n",
      " |  __pow__(self, value, mod=None, /)\n",
      " |      Return pow(self, value, mod).\n",
      " |  \n",
      " |  __radd__(self, value, /)\n",
      " |      Return value+self.\n",
      " |  \n",
      " |  __rand__(self, value, /)\n",
      " |      Return value&self.\n",
      " |  \n",
      " |  __rdivmod__(self, value, /)\n",
      " |      Return divmod(value, self).\n",
      " |  \n",
      " |  __repr__(self, /)\n",
      " |      Return repr(self).\n",
      " |  \n",
      " |  __rfloordiv__(self, value, /)\n",
      " |      Return value//self.\n",
      " |  \n",
      " |  __rlshift__(self, value, /)\n",
      " |      Return value<<self.\n",
      " |  \n",
      " |  __rmod__(self, value, /)\n",
      " |      Return value%self.\n",
      " |  \n",
      " |  __rmul__(self, value, /)\n",
      " |      Return value*self.\n",
      " |  \n",
      " |  __ror__(self, value, /)\n",
      " |      Return value|self.\n",
      " |  \n",
      " |  __round__(...)\n",
      " |      Rounding an Integral returns itself.\n",
      " |      Rounding with an ndigits argument also returns an integer.\n",
      " |  \n",
      " |  __rpow__(self, value, mod=None, /)\n",
      " |      Return pow(value, self, mod).\n",
      " |  \n",
      " |  __rrshift__(self, value, /)\n",
      " |      Return value>>self.\n",
      " |  \n",
      " |  __rshift__(self, value, /)\n",
      " |      Return self>>value.\n",
      " |  \n",
      " |  __rsub__(self, value, /)\n",
      " |      Return value-self.\n",
      " |  \n",
      " |  __rtruediv__(self, value, /)\n",
      " |      Return value/self.\n",
      " |  \n",
      " |  __rxor__(self, value, /)\n",
      " |      Return value^self.\n",
      " |  \n",
      " |  __sizeof__(...)\n",
      " |      Returns size in memory, in bytes\n",
      " |  \n",
      " |  __str__(self, /)\n",
      " |      Return str(self).\n",
      " |  \n",
      " |  __sub__(self, value, /)\n",
      " |      Return self-value.\n",
      " |  \n",
      " |  __truediv__(self, value, /)\n",
      " |      Return self/value.\n",
      " |  \n",
      " |  __trunc__(...)\n",
      " |      Truncating an Integral returns itself.\n",
      " |  \n",
      " |  __xor__(self, value, /)\n",
      " |      Return self^value.\n",
      " |  \n",
      " |  bit_length(...)\n",
      " |      int.bit_length() -> int\n",
      " |      \n",
      " |      Number of bits necessary to represent self in binary.\n",
      " |      >>> bin(37)\n",
      " |      '0b100101'\n",
      " |      >>> (37).bit_length()\n",
      " |      6\n",
      " |  \n",
      " |  conjugate(...)\n",
      " |      Returns self, the complex conjugate of any int.\n",
      " |  \n",
      " |  from_bytes(...) from builtins.type\n",
      " |      int.from_bytes(bytes, byteorder, *, signed=False) -> int\n",
      " |      \n",
      " |      Return the integer represented by the given array of bytes.\n",
      " |      \n",
      " |      The bytes argument must be a bytes-like object (e.g. bytes or bytearray).\n",
      " |      \n",
      " |      The byteorder argument determines the byte order used to represent the\n",
      " |      integer.  If byteorder is 'big', the most significant byte is at the\n",
      " |      beginning of the byte array.  If byteorder is 'little', the most\n",
      " |      significant byte is at the end of the byte array.  To request the native\n",
      " |      byte order of the host system, use `sys.byteorder' as the byte order value.\n",
      " |      \n",
      " |      The signed keyword-only argument indicates whether two's complement is\n",
      " |      used to represent the integer.\n",
      " |  \n",
      " |  to_bytes(...)\n",
      " |      int.to_bytes(length, byteorder, *, signed=False) -> bytes\n",
      " |      \n",
      " |      Return an array of bytes representing an integer.\n",
      " |      \n",
      " |      The integer is represented using length bytes.  An OverflowError is\n",
      " |      raised if the integer is not representable with the given number of\n",
      " |      bytes.\n",
      " |      \n",
      " |      The byteorder argument determines the byte order used to represent the\n",
      " |      integer.  If byteorder is 'big', the most significant byte is at the\n",
      " |      beginning of the byte array.  If byteorder is 'little', the most\n",
      " |      significant byte is at the end of the byte array.  To request the native\n",
      " |      byte order of the host system, use `sys.byteorder' as the byte order value.\n",
      " |      \n",
      " |      The signed keyword-only argument determines whether two's complement is\n",
      " |      used to represent the integer.  If signed is False and a negative integer\n",
      " |      is given, an OverflowError is raised.\n",
      " |  \n",
      " |  ----------------------------------------------------------------------\n",
      " |  Data descriptors defined here:\n",
      " |  \n",
      " |  denominator\n",
      " |      the denominator of a rational number in lowest terms\n",
      " |  \n",
      " |  imag\n",
      " |      the imaginary part of a complex number\n",
      " |  \n",
      " |  numerator\n",
      " |      the numerator of a rational number in lowest terms\n",
      " |  \n",
      " |  real\n",
      " |      the real part of a complex number\n",
      "\n",
      "None\n"
     ]
    }
   ],
   "source": [
    "print(dir())\n",
    "print(dir(a))\n",
    "print(help(a))\n",
    "# print(help(list))"
   ]
  },
  {
   "cell_type": "markdown",
   "metadata": {},
   "source": [
    "- 7. import或者from…import是用来导入相应的模块。也可以[import自己写的一些函数](https://www.cnblogs.com/yan-lei/p/7828871.html)\n",
    "- 8. pep8 介绍 [详见官网](https://legacy.python.org/dev/peps/pep-0008/) [中文版](https://www.cnblogs.com/bymo/p/9567140.html) \n",
    "**A Foolish Consistency is the Hobgoblin of Little Minds 尽信书,则不如无书**"
   ]
  },
  {
   "cell_type": "code",
   "execution_count": 6,
   "metadata": {},
   "outputs": [
    {
     "name": "stdout",
     "output_type": "stream",
     "text": [
      "2019-05-11 15:11:10.158928\n",
      "2019-05-11 15:11:10.159415\n",
      "2019-05-11 15:11:10.159487\n"
     ]
    }
   ],
   "source": [
    "import datetime\n",
    "print(datetime.datetime.now())\n",
    "\n",
    "from datetime import datetime\n",
    "print(datetime.now())\n",
    "\n",
    "import datetime as dt\n",
    "print(dt.datetime.now())"
   ]
  },
  {
   "cell_type": "markdown",
   "metadata": {},
   "source": [
    "## .pyhon 数值基本知识\n",
    "\n",
    "Python 中的变量不需要声明。每个变量在使用前都必须赋值，变量赋值以后该变量才会被创建。在 Python 中，变量就是变量，它没有类型，我们所说的\"类型\"是变量所指的内存中对象的类型。\n",
    "\n",
    "- 数值类型\n",
    "    - Number 数值，包含整数int 和浮点数float，布尔值bool以及复数complex。在Python 3里，只有一种整数类型 int，表示为长整型，没有 python2 中的 Long。在混合计算时，Python会把整型转换成为浮点数。\n",
    "    - String 字符串，单引或者双引号扩起，同时使用反斜杠 \\ 转义特殊字符。 Python 字符串不能被改变\n",
    "    - List 列表，列表是写在方括号 [] 之间、用逗号分隔开的元素列表。和字符串一样，列表同样可以被索引和截取，列表被截取后返回一个包含所需元素的新列表。**与Python字符串不一样的是，列表中的元素是可以改变的**\n",
    "    - Tuple 元组，与列表类似，不同之处在于元组的元素不能修改。元组写在小括号 () 里，元素之间用逗号隔开。虽然tuple的元素不可改变，但它可以包含可变的对象，比如list列表。\n",
    "    - Set 集合，是由一个或数个形态各异的大小整体组成的，构成集合的事物或对象称作元素或是成员。基本功能是进行成员关系测试和删除重复元素。可以使用大括号 { } 或者 set() 函数创建集合，注意：创建一个空集合必须用 set() 而不是 { }，因为 { } 是用来创建一个空字典。\n",
    "    - Dictionary 字典，字典（dictionary）是Python中另一个非常有用的内置数据类型。列表是有序的对象集合，字典是无序的对象集合。两者之间的区别在于：字典当中的元素是通过键来存取的，而不是通过偏移存取。字典是一种映射类型，字典用 { } 标识，它是一个无序的 键(key) : 值(value) 的集合。键(key)必须使用不可变类型。在同一个字典中，键(key)必须是唯一的。\n",
    "    \n",
    "- Python数据类型转换 https://www.runoob.com/python3/python3-data-type.html\n"
   ]
  },
  {
   "cell_type": "code",
   "execution_count": 40,
   "metadata": {},
   "outputs": [
    {
     "name": "stdout",
     "output_type": "stream",
     "text": [
      "<class 'int'> <class 'float'> <class 'bool'> <class 'complex'>\n",
      "25.5\t110.0\t14.5\t3.6363636363636362\t3.0\t3.5\n",
      "True\tFalse\tFalse\tTrue\tFalse\n"
     ]
    }
   ],
   "source": [
    "a, b, c, d = 20, 5.5, True, 4+3j\n",
    "print(type(a), type(b), type(c), type(d))\n",
    "print(a+b, end='\\t') # +\n",
    "print(a*b, end='\\t') # -\n",
    "print(a-b, end='\\t') # *\n",
    "print(a/b, end='\\t') # /\n",
    "print(a//b,end='\\t') # /取整\n",
    "print(a%b, end='\\n') # 取余\n",
    "print(a>b, end='\\t') \n",
    "print(a==b,end='\\t') \n",
    "print(a<b, end='\\t') \n",
    "print(a!=b,end='\\t') \n",
    "print(a is b)"
   ]
  },
  {
   "cell_type": "code",
   "execution_count": 42,
   "metadata": {},
   "outputs": [
    {
     "name": "stdout",
     "output_type": "stream",
     "text": [
      "Runoob\n",
      "Runoo\n",
      "R\n",
      "noo\n",
      "noob\n",
      "RunoobRunoob\n",
      "RunoobTEST\n",
      "uo\n",
      "True\n",
      "True\n"
     ]
    }
   ],
   "source": [
    "str = 'Runoob' \n",
    "print (str)          # 输出字符串\n",
    "print (str[0:-1])    # 输出第一个到倒数第二个的所有字符\n",
    "print (str[0])       # 输出字符串第一个字符\n",
    "print (str[2:5])     # 输出从第三个开始到第五个的字符\n",
    "print (str[2:])      # 输出从第三个开始的后的所有字符\n",
    "print (str * 2)      # 输出字符串两次\n",
    "print (str + \"TEST\") # 连接字符串\n",
    "print (str[1:5:2])   # 每隔两个输出从第二个开始到第五个的字符\n",
    "print (str is 'Runoob')\n",
    "print (str is not 'Run1oob')"
   ]
  },
  {
   "cell_type": "code",
   "execution_count": 30,
   "metadata": {},
   "outputs": [
    {
     "name": "stdout",
     "output_type": "stream",
     "text": [
      "['abcd', 786, 2.23, 'runoob', 70.2]\n",
      "abcd\n",
      "[786, 2.23]\n",
      "[2.23, 'runoob', 70.2]\n",
      "[123, 'runoob', 123, 'runoob']\n",
      "['abcd', 786, 2.23, 'runoob', 70.2, 123, 'runoob']\n"
     ]
    }
   ],
   "source": [
    "list = [ 'abcd', 786 , 2.23, 'runoob', 70.2 ]\n",
    "tinylist = [123, 'runoob']\n",
    " \n",
    "print (list)            # 输出完整列表\n",
    "print (list[0])         # 输出列表第一个元素\n",
    "print (list[1:3])       # 从第二个开始输出到第三个元素\n",
    "print (list[2:])        # 输出从第三个元素开始的所有元素\n",
    "print (tinylist * 2)    # 输出两次列表\n",
    "print (list + tinylist) # 连接列表"
   ]
  },
  {
   "cell_type": "code",
   "execution_count": 33,
   "metadata": {},
   "outputs": [
    {
     "name": "stdout",
     "output_type": "stream",
     "text": [
      "('abcd', 786, 2.23, 'runoob', 70.2)\n",
      "abcd\n",
      "(786, 2.23)\n",
      "(2.23, 'runoob', 70.2)\n",
      "(123, 'runoob', 123, 'runoob')\n",
      "('abcd', 786, 2.23, 'runoob', 70.2, 123, 'runoob')\n"
     ]
    }
   ],
   "source": [
    "tuple = ( 'abcd', 786 , 2.23, 'runoob', 70.2  )\n",
    "tinytuple = (123, 'runoob')\n",
    " \n",
    "print (tuple)             # 输出完整元组\n",
    "print (tuple[0])          # 输出元组的第一个元素\n",
    "print (tuple[1:3])        # 输出从第二个元素开始到第三个元素\n",
    "print (tuple[2:])         # 输出从第三个元素开始的所有元素\n",
    "print (tinytuple * 2)     # 输出两次元组\n",
    "print (tuple + tinytuple) # 连接元组"
   ]
  },
  {
   "cell_type": "code",
   "execution_count": 34,
   "metadata": {},
   "outputs": [
    {
     "name": "stdout",
     "output_type": "stream",
     "text": [
      "{'Tom', 'Jim', 'Mary', 'Jack', 'Rose'}\n",
      "Rose 在集合中\n",
      "{'r', 'b', 'c', 'd', 'a'}\n",
      "{'b', 'd', 'r'}\n",
      "{'r', 'b', 'm', 'c', 'l', 'z', 'd', 'a'}\n",
      "{'a', 'c'}\n",
      "{'d', 'l', 'r', 'b', 'm', 'z'}\n"
     ]
    }
   ],
   "source": [
    "student = {'Tom', 'Jim', 'Mary', 'Tom', 'Jack', 'Rose'}\n",
    "print(student)   # 输出集合，重复的元素被自动去掉\n",
    " \n",
    "# 成员测试\n",
    "if 'Rose' in student :\n",
    "    print('Rose 在集合中')\n",
    "else :\n",
    "    print('Rose 不在集合中')\n",
    "  \n",
    "# set可以进行集合运算\n",
    "a = set('abracadabra')\n",
    "b = set('alacazam') \n",
    "print(a)\n",
    "print(a - b)     # a 和 b 的差集\n",
    "print(a | b)     # a 和 b 的并集\n",
    "print(a & b)     # a 和 b 的交集\n",
    "print(a ^ b)     # a 和 b 中不同时存在的元素"
   ]
  },
  {
   "cell_type": "code",
   "execution_count": 35,
   "metadata": {},
   "outputs": [
    {
     "name": "stdout",
     "output_type": "stream",
     "text": [
      "1 - 菜鸟教程\n",
      "2 - 菜鸟工具\n",
      "{'name': 'runoob', 'code': 1, 'site': 'www.runoob.com'}\n",
      "dict_keys(['name', 'code', 'site'])\n",
      "dict_values(['runoob', 1, 'www.runoob.com'])\n"
     ]
    }
   ],
   "source": [
    "dict = {}\n",
    "dict['one'] = \"1 - 菜鸟教程\"\n",
    "dict[2]     = \"2 - 菜鸟工具\"\n",
    "tinydict = {'name': 'runoob','code':1, 'site': 'www.runoob.com'}\n",
    "print (dict['one'])       # 输出键为 'one' 的值\n",
    "print (dict[2])           # 输出键为 2 的值\n",
    "print (tinydict)          # 输出完整的字典\n",
    "print (tinydict.keys())   # 输出所有键\n",
    "print (tinydict.values()) # 输出所有值"
   ]
  }
 ],
 "metadata": {
  "kernelspec": {
   "display_name": "Python 3",
   "language": "python",
   "name": "python3"
  },
  "language_info": {
   "codemirror_mode": {
    "name": "ipython",
    "version": 3
   },
   "file_extension": ".py",
   "mimetype": "text/x-python",
   "name": "python",
   "nbconvert_exporter": "python",
   "pygments_lexer": "ipython3",
   "version": "3.6.4"
  },
  "toc": {
   "base_numbering": 1,
   "nav_menu": {},
   "number_sections": true,
   "sideBar": true,
   "skip_h1_title": false,
   "title_cell": "Table of Contents",
   "title_sidebar": "Contents",
   "toc_cell": false,
   "toc_position": {
    "height": "calc(100% - 180px)",
    "left": "10px",
    "top": "150px",
    "width": "208px"
   },
   "toc_section_display": true,
   "toc_window_display": true
  }
 },
 "nbformat": 4,
 "nbformat_minor": 2
}
