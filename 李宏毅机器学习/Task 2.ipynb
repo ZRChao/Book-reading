{
 "cells": [
  {
   "cell_type": "markdown",
   "metadata": {},
   "source": [
    "## Task 2 \n",
    "___安排：5.15看视频及理解，5.16笔记整理，5.17有时间写代码___\n",
    "\n",
    "5月17日22:00前，作业要求：https://shimo.im/docs/LrtvE7bsyewCWB14/read\n",
    "\n",
    "学习打卡内容：\n",
    "- 理解偏差和方差\n",
    "  - 学习误差为什么是偏差和方差而产生的，并且推导数学公式\n",
    "  - 过拟合，欠拟合，分别对应bias和variance什么情况\n",
    "- 学习鞍点，复习上次任务学习的全局最优和局部最优\n",
    "  - 解决办法有哪些\n",
    "- 梯度下降\n",
    "  - 学习Mini-Batch与SGD\n",
    "  - 学习Batch与Mini-Batch，SGD梯度下降的区别\n",
    "  - 如何根据样本大小选择哪个梯度下降(批量梯度下降，Mini-Batch）\n",
    "  - 写出SGD和Mini-Batch的代码\n",
    "- 学习交叉验证\n",
    "- 学习归一化 \n",
    "- 学习回归模型评价指标"
   ]
  },
  {
   "cell_type": "markdown",
   "metadata": {},
   "source": [
    "## 偏差和方差\n",
    "\n",
    "误差来源：随着模型复杂度的增大，虽然训练集上的误差能够降低，但是在测试集上误差却反而到最后增大。其误差来源主要是**偏差**和**方差**，\n",
    " - 偏差只拟合算法的期望预测与真实模型的偏离程度，刻画了算法本身的拟合能力,偏差大说明模型不够好拟合**underfitting**，可以通过增加其他有效参数进一步建模；另外一种策略便是学习若干个弱模型，然后整合结果，比如[bagging，boosting](https://mp.weixin.qq.com/s/3hwGAFIibddcSV-00mrSfg)等\n",
    " \n",
    " - 方差刻画了算法本身的复杂度，参数越多其可变性越高曲线越光滑，方差越大学习过度traindata本身的信息**overfitting**，增加数据样本量或是进行特征选择 **正则化**。\n",
    "\n",
    "**公式证明**[参考南瓜书]() \n",
    "![](bias-variance.png)\n",
    "\n",
    "\n",
    "![](bias-variance2.png)\n",
    "\n",
    " - 权衡偏差-方差，可以通过将train data切割一部分出来作为验证集validation， 首先通过traindata进行训练，然后通过验证集进行测试，确定模型，最后在用到测试数据中。如何切割，一种方式是hold out即只切割一部分出来，另外一种更普世的是**交叉验证 cross validation** (参见西瓜书)。\n",
    "**需要说明的是，在kaggle类似的比赛中，往往由public的测试数据，我们可以通过上面的步骤训练好模型，然后预测public测试数据并计算误差，这也是我们比赛期间排名的依据，但是并不推荐用此测试数据来反过来修改我们的模型，因为最终排名还有一个private数据，很有可能你的模型在public中不是最优的，但是因为其一般性可以在private中达到最好。为此只需要对训练数据进行有效切割后训练模型，选择好模型后再用所有的测试数据拟合参数即可。**\n",
    "\n",
    "[数学证明](参考西瓜书第二章如下) \n",
    "![](bias-variance3.png) "
   ]
  },
  {
   "cell_type": "markdown",
   "metadata": {},
   "source": [
    "## 梯度下降\n",
    "\n",
    "在定义好损失函数或是目标函数进行极值求解过程中，可以通过梯度下降(或上升)求解，梯度也即是等高线的法线的方向。\n",
    "\n",
    "![](GD1.png)\n",
    "\n",
    "从梯度下降的式子可以看出，参数更新依赖三部分: **初始值**,**学习速率**以及**梯度大小**。\n",
    " - 当目标函数是凸函数(或凹函数时)，初始值的选择不会影响最终的结果，总会迭代到最优解。而当函数非凸(非凹)时，初始值的选择会导致局部最优，选择合适的初始值成为关键。\n",
    "\n",
    "- 另外，当梯度变化很小时，算法也会停止更新，此时并未达到极值。可以看到初始值与梯度大小依赖于目标函数本身的性质，很难进行有效的选择与调节。如下图\n",
    "\n",
    "![](GD2.png)\n",
    "\n",
    "- 最后，对于一般的存在最优解的函数，学习速率成为调节的关键。当步长太短时，迭代收敛速度极慢；而当步长太长，则会导致跳过最优解。\n",
    "    - 简单思想，开始步长长，后面不断减小\n",
    "    - **Learning rate cannot be one-size-fits-all**\n",
    "\n",
    "### Adagrad\n",
    "\n",
    "$$w^{t+1} = w^t \\frac{\\eta}{\\sqrt{\\sum_{i=0}^t(g^i)^2}} g^t$$\n",
    "\n",
    "![](GD3.png)\n",
    "\n",
    "**没理解举得二次函数的例子解释，采用一阶微分除以二阶微分作为更新部分？**\n",
    "\n",
    "### SGD stochastic gradient descent\n",
    "\n",
    "比GD更快，因为每次更新参数，其随机选择一个样本计算梯度。\n",
    "\n",
    "- 为了保证GD的收敛速度，更一般的可以选择一部分样本进行梯度的计算\n",
    "\n",
    "### Feature scaling \n",
    "\n",
    "对不同的feature进行标准化，使得在不同参数的更新上朝着同一个方向趋于最优解。\n",
    "\n",
    "![](GD4.png)\n",
    "\n",
    "### 理论支持\n",
    "\n",
    "在某一步参数更新时，目标函数在该处进行二阶泰勒展开，此时下一步最优化转化为找到对应的圆内的某点使得其与变化方向上的乘机最小。\n",
    "\n",
    "![](GD5.png)\n",
    "\n",
    "![](GD6.png)\n",
    "\n"
   ]
  },
  {
   "cell_type": "markdown",
   "metadata": {},
   "source": [
    "## 模型评估\n",
    "\n",
    "参见[西瓜书作业](https://github.com/ZRChao/Book-reading/tree/master/周志华西瓜书)"
   ]
  }
 ],
 "metadata": {
  "kernelspec": {
   "display_name": "Python 3",
   "language": "python",
   "name": "python3"
  },
  "language_info": {
   "codemirror_mode": {
    "name": "ipython",
    "version": 3
   },
   "file_extension": ".py",
   "mimetype": "text/x-python",
   "name": "python",
   "nbconvert_exporter": "python",
   "pygments_lexer": "ipython3",
   "version": "3.6.4"
  },
  "toc": {
   "base_numbering": 1,
   "nav_menu": {},
   "number_sections": true,
   "sideBar": true,
   "skip_h1_title": false,
   "title_cell": "Table of Contents",
   "title_sidebar": "Contents",
   "toc_cell": false,
   "toc_position": {},
   "toc_section_display": true,
   "toc_window_display": false
  }
 },
 "nbformat": 4,
 "nbformat_minor": 2
}
