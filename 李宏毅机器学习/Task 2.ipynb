{
 "cells": [
  {
   "cell_type": "markdown",
   "metadata": {},
   "source": [
    "## Task 2 \n",
    "___安排：5.15看视频及理解，5.16笔记整理，5.17有时间写代码___\n",
    "\n",
    "5月17日22:00前，作业要求：https://shimo.im/docs/LrtvE7bsyewCWB14/read\n",
    "\n",
    "学习打卡内容：\n",
    "- 理解偏差和方差\n",
    "  - 学习误差为什么是偏差和方差而产生的，并且推导数学公式\n",
    "  - 过拟合，欠拟合，分别对应bias和variance什么情况\n",
    "- 学习鞍点，复习上次任务学习的全局最优和局部最优\n",
    "  - 解决办法有哪些\n",
    "- 梯度下降\n",
    "  - 学习Mini-Batch与SGD\n",
    "  - 学习Batch与Mini-Batch，SGD梯度下降的区别\n",
    "  - 如何根据样本大小选择哪个梯度下降(批量梯度下降，Mini-Batch）\n",
    "  - 写出SGD和Mini-Batch的代码\n",
    "- 学习交叉验证\n",
    "- 学习归一化 \n",
    "- 学习回归模型评价指标"
   ]
  },
  {
   "cell_type": "markdown",
   "metadata": {},
   "source": [
    "## 偏差和方差\n",
    "\n",
    "偏差度量了学习算法的期望预测与真实结果的偏离程度，刻画了学习算法本身的拟合能力。方差刻画了算法依赖数据扰动变化的大小。"
   ]
  }
 ],
 "metadata": {
  "kernelspec": {
   "display_name": "Python 3",
   "language": "python",
   "name": "python3"
  },
  "language_info": {
   "codemirror_mode": {
    "name": "ipython",
    "version": 3
   },
   "file_extension": ".py",
   "mimetype": "text/x-python",
   "name": "python",
   "nbconvert_exporter": "python",
   "pygments_lexer": "ipython3",
   "version": "3.6.4"
  },
  "toc": {
   "base_numbering": 1,
   "nav_menu": {},
   "number_sections": true,
   "sideBar": true,
   "skip_h1_title": false,
   "title_cell": "Table of Contents",
   "title_sidebar": "Contents",
   "toc_cell": false,
   "toc_position": {},
   "toc_section_display": true,
   "toc_window_display": false
  }
 },
 "nbformat": 4,
 "nbformat_minor": 2
}
